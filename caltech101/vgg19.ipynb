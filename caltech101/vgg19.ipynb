{
 "cells": [
  {
   "cell_type": "code",
   "execution_count": 1,
   "id": "4f07c589-647e-4d71-8f91-bfe5670fba3e",
   "metadata": {},
   "outputs": [
    {
     "name": "stderr",
     "output_type": "stream",
     "text": [
      "131740031it [00:04, 26813512.32it/s]\n"
     ]
    },
    {
     "name": "stdout",
     "output_type": "stream",
     "text": [
      "Extracting ./data/caltech101/101_ObjectCategories.tar.gz to ./data/caltech101\n"
     ]
    },
    {
     "name": "stderr",
     "output_type": "stream",
     "text": [
      "14028800it [00:00, 37850980.16it/s]\n"
     ]
    },
    {
     "name": "stdout",
     "output_type": "stream",
     "text": [
      "Extracting ./data/caltech101/Annotations.tar to ./data/caltech101\n"
     ]
    }
   ],
   "source": [
    "import torch\n",
    "from torchvision import datasets, transforms\n",
    "from torch.utils.data import DataLoader, random_split\n",
    "\n",
    "# Data pre-processing transformations\n",
    "transform = transforms.Compose([\n",
    "    transforms.Lambda(lambda img: img.convert('RGB')),  # Convert grayscale to RGB\n",
    "    transforms.Resize((128, 128)),\n",
    "    transforms.RandomCrop(32, padding=4),\n",
    "    transforms.RandomHorizontalFlip(),\n",
    "    transforms.RandomRotation(15),\n",
    "    transforms.ColorJitter(brightness=0.2, contrast=0.2, saturation=0.2, hue=0.1),\n",
    "    transforms.ToTensor(),\n",
    "])\n",
    "\n",
    "# Download Caltech101 dataset\n",
    "dataset = datasets.Caltech101(root='./data', download=True, transform=transform)\n",
    "\n",
    "# Split into train, validation, and test sets\n",
    "train_size = int(0.7 * len(dataset))\n",
    "val_size = int(0.2 * len(dataset))\n",
    "test_size = len(dataset) - train_size - val_size\n",
    "\n",
    "train_dataset, val_dataset, test_dataset = random_split(dataset, [train_size, val_size, test_size])\n",
    "\n",
    "# Initialize data loaders\n",
    "train_loader = DataLoader(train_dataset, batch_size=64, shuffle=True)\n",
    "val_loader = DataLoader(val_dataset, batch_size=64, shuffle=False)\n",
    "test_loader = DataLoader(test_dataset, batch_size=64, shuffle=False)"
   ]
  },
  {
   "cell_type": "code",
   "execution_count": 2,
   "id": "504806ac-b957-4128-a3a4-d7a04113debc",
   "metadata": {},
   "outputs": [
    {
     "name": "stdout",
     "output_type": "stream",
     "text": [
      "Epoch 1/20\n"
     ]
    },
    {
     "name": "stderr",
     "output_type": "stream",
     "text": [
      "Training: 100%|█████████████████████████████████| 95/95 [00:53<00:00,  1.77it/s]\n"
     ]
    },
    {
     "name": "stdout",
     "output_type": "stream",
     "text": [
      "Training Loss: 1.9474914585289202\n"
     ]
    },
    {
     "name": "stderr",
     "output_type": "stream",
     "text": [
      "Validation: 100%|███████████████████████████████| 28/28 [00:11<00:00,  2.42it/s]\n"
     ]
    },
    {
     "name": "stdout",
     "output_type": "stream",
     "text": [
      "Validation Loss: 0.41873027490718023, Validation Accuracy: 88.53025936599424%\n",
      "Epoch 2/20\n"
     ]
    },
    {
     "name": "stderr",
     "output_type": "stream",
     "text": [
      "Training: 100%|█████████████████████████████████| 95/95 [00:52<00:00,  1.79it/s]\n"
     ]
    },
    {
     "name": "stdout",
     "output_type": "stream",
     "text": [
      "Training Loss: 0.26294397664697544\n"
     ]
    },
    {
     "name": "stderr",
     "output_type": "stream",
     "text": [
      "Validation: 100%|███████████████████████████████| 28/28 [00:08<00:00,  3.41it/s]\n"
     ]
    },
    {
     "name": "stdout",
     "output_type": "stream",
     "text": [
      "Validation Loss: 0.25676875321992804, Validation Accuracy: 93.19884726224784%\n",
      "Epoch 3/20\n"
     ]
    },
    {
     "name": "stderr",
     "output_type": "stream",
     "text": [
      "Training: 100%|█████████████████████████████████| 95/95 [00:50<00:00,  1.87it/s]\n"
     ]
    },
    {
     "name": "stdout",
     "output_type": "stream",
     "text": [
      "Training Loss: 0.09472770126242387\n"
     ]
    },
    {
     "name": "stderr",
     "output_type": "stream",
     "text": [
      "Validation: 100%|███████████████████████████████| 28/28 [00:10<00:00,  2.60it/s]\n"
     ]
    },
    {
     "name": "stdout",
     "output_type": "stream",
     "text": [
      "Validation Loss: 0.23226211479465877, Validation Accuracy: 94.06340057636888%\n",
      "Epoch 4/20\n"
     ]
    },
    {
     "name": "stderr",
     "output_type": "stream",
     "text": [
      "Training: 100%|█████████████████████████████████| 95/95 [00:50<00:00,  1.89it/s]\n"
     ]
    },
    {
     "name": "stdout",
     "output_type": "stream",
     "text": [
      "Training Loss: 0.03533951949916388\n"
     ]
    },
    {
     "name": "stderr",
     "output_type": "stream",
     "text": [
      "Validation: 100%|███████████████████████████████| 28/28 [00:10<00:00,  2.58it/s]\n"
     ]
    },
    {
     "name": "stdout",
     "output_type": "stream",
     "text": [
      "Validation Loss: 0.20818325950364983, Validation Accuracy: 94.35158501440922%\n",
      "Epoch 5/20\n"
     ]
    },
    {
     "name": "stderr",
     "output_type": "stream",
     "text": [
      "Training: 100%|█████████████████████████████████| 95/95 [00:49<00:00,  1.92it/s]\n"
     ]
    },
    {
     "name": "stdout",
     "output_type": "stream",
     "text": [
      "Training Loss: 0.01745248100426244\n"
     ]
    },
    {
     "name": "stderr",
     "output_type": "stream",
     "text": [
      "Validation: 100%|███████████████████████████████| 28/28 [00:10<00:00,  2.66it/s]\n"
     ]
    },
    {
     "name": "stdout",
     "output_type": "stream",
     "text": [
      "Validation Loss: 0.19645906110028072, Validation Accuracy: 94.5821325648415%\n",
      "Epoch 6/20\n"
     ]
    },
    {
     "name": "stderr",
     "output_type": "stream",
     "text": [
      "Training: 100%|█████████████████████████████████| 95/95 [00:50<00:00,  1.90it/s]\n"
     ]
    },
    {
     "name": "stdout",
     "output_type": "stream",
     "text": [
      "Training Loss: 0.011447401327620212\n"
     ]
    },
    {
     "name": "stderr",
     "output_type": "stream",
     "text": [
      "Validation: 100%|███████████████████████████████| 28/28 [00:10<00:00,  2.60it/s]\n"
     ]
    },
    {
     "name": "stdout",
     "output_type": "stream",
     "text": [
      "Validation Loss: 0.1996697986365429, Validation Accuracy: 94.69740634005764%\n",
      "Epoch 7/20\n"
     ]
    },
    {
     "name": "stderr",
     "output_type": "stream",
     "text": [
      "Training: 100%|█████████████████████████████████| 95/95 [00:52<00:00,  1.79it/s]\n"
     ]
    },
    {
     "name": "stdout",
     "output_type": "stream",
     "text": [
      "Training Loss: 0.009602478854848367\n"
     ]
    },
    {
     "name": "stderr",
     "output_type": "stream",
     "text": [
      "Validation: 100%|███████████████████████████████| 28/28 [00:07<00:00,  3.57it/s]\n"
     ]
    },
    {
     "name": "stdout",
     "output_type": "stream",
     "text": [
      "Validation Loss: 0.19906419974618725, Validation Accuracy: 94.5821325648415%\n",
      "Epoch 00007: reducing learning rate of group 0 to 1.4800e-04.\n",
      "Epoch 8/20\n"
     ]
    },
    {
     "name": "stderr",
     "output_type": "stream",
     "text": [
      "Training: 100%|█████████████████████████████████| 95/95 [00:52<00:00,  1.81it/s]\n"
     ]
    },
    {
     "name": "stdout",
     "output_type": "stream",
     "text": [
      "Training Loss: 0.006483998875697388\n"
     ]
    },
    {
     "name": "stderr",
     "output_type": "stream",
     "text": [
      "Validation: 100%|███████████████████████████████| 28/28 [00:08<00:00,  3.46it/s]\n"
     ]
    },
    {
     "name": "stdout",
     "output_type": "stream",
     "text": [
      "Validation Loss: 0.19666583636509521, Validation Accuracy: 94.75504322766571%\n",
      "Epoch 9/20\n"
     ]
    },
    {
     "name": "stderr",
     "output_type": "stream",
     "text": [
      "Training: 100%|█████████████████████████████████| 95/95 [00:56<00:00,  1.68it/s]\n"
     ]
    },
    {
     "name": "stdout",
     "output_type": "stream",
     "text": [
      "Training Loss: 0.005347094183640652\n"
     ]
    },
    {
     "name": "stderr",
     "output_type": "stream",
     "text": [
      "Validation: 100%|███████████████████████████████| 28/28 [00:07<00:00,  3.52it/s]\n"
     ]
    },
    {
     "name": "stdout",
     "output_type": "stream",
     "text": [
      "Validation Loss: 0.19423933120976603, Validation Accuracy: 94.69740634005764%\n",
      "Epoch 10/20\n"
     ]
    },
    {
     "name": "stderr",
     "output_type": "stream",
     "text": [
      "Training: 100%|█████████████████████████████████| 95/95 [00:56<00:00,  1.69it/s]\n"
     ]
    },
    {
     "name": "stdout",
     "output_type": "stream",
     "text": [
      "Training Loss: 0.004843225672620495\n"
     ]
    },
    {
     "name": "stderr",
     "output_type": "stream",
     "text": [
      "Validation: 100%|███████████████████████████████| 28/28 [00:07<00:00,  3.58it/s]\n"
     ]
    },
    {
     "name": "stdout",
     "output_type": "stream",
     "text": [
      "Validation Loss: 0.19257320556789637, Validation Accuracy: 94.63976945244957%\n",
      "Epoch 11/20\n"
     ]
    },
    {
     "name": "stderr",
     "output_type": "stream",
     "text": [
      "Training: 100%|█████████████████████████████████| 95/95 [00:57<00:00,  1.66it/s]\n"
     ]
    },
    {
     "name": "stdout",
     "output_type": "stream",
     "text": [
      "Training Loss: 0.004660854965301328\n"
     ]
    },
    {
     "name": "stderr",
     "output_type": "stream",
     "text": [
      "Validation: 100%|███████████████████████████████| 28/28 [00:07<00:00,  3.70it/s]\n"
     ]
    },
    {
     "name": "stdout",
     "output_type": "stream",
     "text": [
      "Validation Loss: 0.1925897456239909, Validation Accuracy: 94.52449567723343%\n",
      "Epoch 12/20\n"
     ]
    },
    {
     "name": "stderr",
     "output_type": "stream",
     "text": [
      "Training: 100%|█████████████████████████████████| 95/95 [00:53<00:00,  1.79it/s]\n"
     ]
    },
    {
     "name": "stdout",
     "output_type": "stream",
     "text": [
      "Training Loss: 0.004301900003031877\n"
     ]
    },
    {
     "name": "stderr",
     "output_type": "stream",
     "text": [
      "Validation: 100%|███████████████████████████████| 28/28 [00:09<00:00,  2.97it/s]\n"
     ]
    },
    {
     "name": "stdout",
     "output_type": "stream",
     "text": [
      "Validation Loss: 0.19466013152019254, Validation Accuracy: 94.5821325648415%\n",
      "Epoch 00012: reducing learning rate of group 0 to 1.4800e-05.\n",
      "Epoch 13/20\n"
     ]
    },
    {
     "name": "stderr",
     "output_type": "stream",
     "text": [
      "Training: 100%|█████████████████████████████████| 95/95 [00:50<00:00,  1.88it/s]\n"
     ]
    },
    {
     "name": "stdout",
     "output_type": "stream",
     "text": [
      "Training Loss: 0.004744647476687341\n"
     ]
    },
    {
     "name": "stderr",
     "output_type": "stream",
     "text": [
      "Validation: 100%|███████████████████████████████| 28/28 [00:12<00:00,  2.21it/s]\n"
     ]
    },
    {
     "name": "stdout",
     "output_type": "stream",
     "text": [
      "Validation Loss: 0.19360807790820087, Validation Accuracy: 94.69740634005764%\n",
      "Epoch 14/20\n"
     ]
    },
    {
     "name": "stderr",
     "output_type": "stream",
     "text": [
      "Training: 100%|█████████████████████████████████| 95/95 [00:49<00:00,  1.91it/s]\n"
     ]
    },
    {
     "name": "stdout",
     "output_type": "stream",
     "text": [
      "Training Loss: 0.0045647267705613845\n"
     ]
    },
    {
     "name": "stderr",
     "output_type": "stream",
     "text": [
      "Validation: 100%|███████████████████████████████| 28/28 [00:14<00:00,  1.93it/s]\n"
     ]
    },
    {
     "name": "stdout",
     "output_type": "stream",
     "text": [
      "Validation Loss: 0.19332863387119556, Validation Accuracy: 94.92795389048992%\n",
      "Epoch 00014: reducing learning rate of group 0 to 1.4800e-06.\n",
      "Epoch 15/20\n"
     ]
    },
    {
     "name": "stderr",
     "output_type": "stream",
     "text": [
      "Training: 100%|█████████████████████████████████| 95/95 [00:51<00:00,  1.86it/s]\n"
     ]
    },
    {
     "name": "stdout",
     "output_type": "stream",
     "text": [
      "Training Loss: 0.004247020986727684\n"
     ]
    },
    {
     "name": "stderr",
     "output_type": "stream",
     "text": [
      "Validation: 100%|███████████████████████████████| 28/28 [00:10<00:00,  2.71it/s]\n"
     ]
    },
    {
     "name": "stdout",
     "output_type": "stream",
     "text": [
      "Validation Loss: 0.1920000876499606, Validation Accuracy: 94.69740634005764%\n",
      "Epoch 16/20\n"
     ]
    },
    {
     "name": "stderr",
     "output_type": "stream",
     "text": [
      "Training: 100%|█████████████████████████████████| 95/95 [00:53<00:00,  1.78it/s]\n"
     ]
    },
    {
     "name": "stdout",
     "output_type": "stream",
     "text": [
      "Training Loss: 0.005100276632430522\n"
     ]
    },
    {
     "name": "stderr",
     "output_type": "stream",
     "text": [
      "Validation: 100%|███████████████████████████████| 28/28 [00:10<00:00,  2.59it/s]\n"
     ]
    },
    {
     "name": "stdout",
     "output_type": "stream",
     "text": [
      "Validation Loss: 0.1927275916095823, Validation Accuracy: 94.81268011527378%\n",
      "Epoch 17/20\n"
     ]
    },
    {
     "name": "stderr",
     "output_type": "stream",
     "text": [
      "Training: 100%|█████████████████████████████████| 95/95 [00:59<00:00,  1.60it/s]\n"
     ]
    },
    {
     "name": "stdout",
     "output_type": "stream",
     "text": [
      "Training Loss: 0.0042989414013726145\n"
     ]
    },
    {
     "name": "stderr",
     "output_type": "stream",
     "text": [
      "Validation: 100%|███████████████████████████████| 28/28 [00:08<00:00,  3.28it/s]\n"
     ]
    },
    {
     "name": "stdout",
     "output_type": "stream",
     "text": [
      "Validation Loss: 0.19086923327163927, Validation Accuracy: 94.69740634005764%\n",
      "Epoch 18/20\n"
     ]
    },
    {
     "name": "stderr",
     "output_type": "stream",
     "text": [
      "Training: 100%|█████████████████████████████████| 95/95 [00:57<00:00,  1.65it/s]\n"
     ]
    },
    {
     "name": "stdout",
     "output_type": "stream",
     "text": [
      "Training Loss: 0.004502331145340576\n"
     ]
    },
    {
     "name": "stderr",
     "output_type": "stream",
     "text": [
      "Validation: 100%|███████████████████████████████| 28/28 [00:07<00:00,  3.76it/s]\n"
     ]
    },
    {
     "name": "stdout",
     "output_type": "stream",
     "text": [
      "Validation Loss: 0.19415822455526463, Validation Accuracy: 94.69740634005764%\n",
      "Epoch 19/20\n"
     ]
    },
    {
     "name": "stderr",
     "output_type": "stream",
     "text": [
      "Training: 100%|█████████████████████████████████| 95/95 [00:54<00:00,  1.74it/s]\n"
     ]
    },
    {
     "name": "stdout",
     "output_type": "stream",
     "text": [
      "Training Loss: 0.0046251087694575916\n"
     ]
    },
    {
     "name": "stderr",
     "output_type": "stream",
     "text": [
      "Validation: 100%|███████████████████████████████| 28/28 [00:07<00:00,  3.60it/s]\n"
     ]
    },
    {
     "name": "stdout",
     "output_type": "stream",
     "text": [
      "Validation Loss: 0.19313025072083942, Validation Accuracy: 94.5821325648415%\n",
      "Epoch 00019: reducing learning rate of group 0 to 1.4800e-07.\n",
      "Epoch 20/20\n"
     ]
    },
    {
     "name": "stderr",
     "output_type": "stream",
     "text": [
      "Training: 100%|█████████████████████████████████| 95/95 [00:52<00:00,  1.80it/s]\n"
     ]
    },
    {
     "name": "stdout",
     "output_type": "stream",
     "text": [
      "Training Loss: 0.003646195843497193\n"
     ]
    },
    {
     "name": "stderr",
     "output_type": "stream",
     "text": [
      "Validation: 100%|███████████████████████████████| 28/28 [00:12<00:00,  2.28it/s]"
     ]
    },
    {
     "name": "stdout",
     "output_type": "stream",
     "text": [
      "Validation Loss: 0.19140979920380882, Validation Accuracy: 94.63976945244957%\n"
     ]
    },
    {
     "name": "stderr",
     "output_type": "stream",
     "text": [
      "\n"
     ]
    }
   ],
   "source": [
    "from tqdm import tqdm\n",
    "import torch\n",
    "import torch.nn as nn\n",
    "import torch.optim as optim\n",
    "from torchvision import models\n",
    "from torch.optim import lr_scheduler\n",
    "\n",
    "# Define the device\n",
    "device = torch.device('cuda' if torch.cuda.is_available() else 'cpu')\n",
    "\n",
    "# Load pre-trained VGG-19 with batch normalization\n",
    "model = models.vgg19_bn(weights='DEFAULT')\n",
    "\n",
    "# Modify the last layer to match the number of classes in the Caltech101 dataset (102)\n",
    "num_classes = 102  # Including background class\n",
    "model.classifier[6] = nn.Linear(model.classifier[6].in_features, num_classes)\n",
    "\n",
    "# Move the model to the device\n",
    "model = model.to(device)\n",
    "\n",
    "# Loss function and optimizer\n",
    "criterion = nn.CrossEntropyLoss()\n",
    "optimizer = optim.SGD(model.parameters(), lr=0.00148, momentum=0.9395, weight_decay=0.001415, dampening=0.00289)\n",
    "#optimizer = optim.AdamW(model.parameters(), lr=0.00008, weight_decay=0.05)\n",
    "scheduler = lr_scheduler.ReduceLROnPlateau(optimizer, mode='min', factor=0.1, patience=1, verbose=True)\n",
    "\n",
    "# Train and validate the model\n",
    "num_epochs = 20\n",
    "\n",
    "for epoch in range(num_epochs):\n",
    "    print(f\"Epoch {epoch+1}/{num_epochs}\")\n",
    "\n",
    "    # Training phase\n",
    "    model.train()\n",
    "    running_loss = 0.0\n",
    "    for images, labels in tqdm(train_loader, desc=\"Training\"):\n",
    "        images, labels = images.to(device), labels.to(device)  # Move data to the device\n",
    "        optimizer.zero_grad()\n",
    "        outputs = model(images)\n",
    "        loss = criterion(outputs, labels)\n",
    "        loss.backward()\n",
    "        optimizer.step()\n",
    "        running_loss += loss.item()\n",
    "\n",
    "    train_loss = running_loss / len(train_loader)\n",
    "    print(f\"Training Loss: {train_loss}\")\n",
    "    \n",
    "    # Validation phase\n",
    "    model.eval()\n",
    "    val_running_loss = 0.0\n",
    "    correct = 0\n",
    "    total = 0\n",
    "    with torch.no_grad():\n",
    "        for images, labels in tqdm(val_loader, desc=\"Validation\"):\n",
    "            images, labels = images.to(device), labels.to(device)  # Move data to the device\n",
    "            outputs = model(images)\n",
    "            loss = criterion(outputs, labels)\n",
    "            val_running_loss += loss.item()\n",
    "            _, predicted = outputs.max(1)\n",
    "            total += labels.size(0)\n",
    "            correct += predicted.eq(labels).sum().item()\n",
    "\n",
    "    val_loss = val_running_loss / len(val_loader)\n",
    "    val_accuracy = 100 * correct / total\n",
    "    print(f\"Validation Loss: {val_loss}, Validation Accuracy: {val_accuracy}%\")\n",
    "    scheduler.step(val_loss)"
   ]
  },
  {
   "cell_type": "code",
   "execution_count": 3,
   "id": "509e6cf9-d611-48cc-83a3-4f928c9f5301",
   "metadata": {},
   "outputs": [
    {
     "name": "stderr",
     "output_type": "stream",
     "text": [
      "Testing: 100%|██████████████████████████████████| 14/14 [00:04<00:00,  3.26it/s]"
     ]
    },
    {
     "name": "stdout",
     "output_type": "stream",
     "text": [
      "Test Accuracy: 94.82163406214039%\n",
      "Classification Report:\n",
      "              precision    recall  f1-score   support\n",
      "\n",
      "         0.0       1.00      0.97      0.99        37\n",
      "         1.0       0.98      1.00      0.99        45\n",
      "         2.0       0.95      1.00      0.98        21\n",
      "         3.0       1.00      1.00      1.00        76\n",
      "         4.0       1.00      1.00      1.00         7\n",
      "         5.0       1.00      1.00      1.00        90\n",
      "         6.0       0.20      1.00      0.33         1\n",
      "         7.0       1.00      0.67      0.80         3\n",
      "         8.0       0.75      0.75      0.75         4\n",
      "         9.0       1.00      1.00      1.00         5\n",
      "        10.0       0.50      1.00      0.67         1\n",
      "        11.0       0.75      1.00      0.86         3\n",
      "        12.0       1.00      1.00      1.00        18\n",
      "        13.0       1.00      0.75      0.86         4\n",
      "        14.0       0.80      1.00      0.89         4\n",
      "        15.0       1.00      1.00      1.00         8\n",
      "        16.0       0.80      1.00      0.89         4\n",
      "        17.0       0.75      1.00      0.86         3\n",
      "        18.0       1.00      0.75      0.86         4\n",
      "        19.0       1.00      1.00      1.00        14\n",
      "        20.0       1.00      1.00      1.00         7\n",
      "        21.0       1.00      1.00      1.00         8\n",
      "        22.0       0.80      0.80      0.80         5\n",
      "        23.0       1.00      0.88      0.93         8\n",
      "        24.0       1.00      0.67      0.80         9\n",
      "        25.0       0.89      1.00      0.94         8\n",
      "        26.0       0.88      0.78      0.82         9\n",
      "        27.0       0.80      1.00      0.89         4\n",
      "        28.0       1.00      0.83      0.91         6\n",
      "        29.0       0.89      0.89      0.89         9\n",
      "        30.0       1.00      1.00      1.00         6\n",
      "        31.0       1.00      1.00      1.00         7\n",
      "        32.0       1.00      1.00      1.00         3\n",
      "        33.0       1.00      1.00      1.00         6\n",
      "        34.0       1.00      1.00      1.00         6\n",
      "        35.0       1.00      1.00      1.00         7\n",
      "        36.0       0.80      1.00      0.89         4\n",
      "        37.0       1.00      0.67      0.80         6\n",
      "        38.0       1.00      1.00      1.00         9\n",
      "        39.0       1.00      1.00      1.00        16\n",
      "        40.0       1.00      1.00      1.00         6\n",
      "        41.0       1.00      0.83      0.91         6\n",
      "        42.0       0.75      1.00      0.86         3\n",
      "        43.0       0.75      1.00      0.86         3\n",
      "        44.0       0.60      1.00      0.75         3\n",
      "        45.0       1.00      1.00      1.00         3\n",
      "        46.0       1.00      1.00      1.00        10\n",
      "        47.0       1.00      0.90      0.95        10\n",
      "        48.0       1.00      1.00      1.00         1\n",
      "        49.0       1.00      0.90      0.95        10\n",
      "        50.0       0.91      0.91      0.91        11\n",
      "        51.0       0.67      0.86      0.75         7\n",
      "        52.0       1.00      1.00      1.00         5\n",
      "        53.0       1.00      0.86      0.92         7\n",
      "        54.0       1.00      1.00      1.00         7\n",
      "        55.0       0.89      0.80      0.84        10\n",
      "        56.0       1.00      1.00      1.00         9\n",
      "        57.0       1.00      1.00      1.00         3\n",
      "        58.0       1.00      1.00      1.00         9\n",
      "        59.0       0.67      1.00      0.80         4\n",
      "        60.0       0.67      0.86      0.75         7\n",
      "        61.0       1.00      0.75      0.86         4\n",
      "        62.0       1.00      1.00      1.00         5\n",
      "        63.0       1.00      1.00      1.00         7\n",
      "        64.0       1.00      0.67      0.80         3\n",
      "        65.0       1.00      1.00      1.00         3\n",
      "        66.0       0.75      1.00      0.86         3\n",
      "        67.0       1.00      0.67      0.80         3\n",
      "        68.0       1.00      0.86      0.92         7\n",
      "        69.0       1.00      1.00      1.00         2\n",
      "        70.0       1.00      1.00      1.00         6\n",
      "        71.0       1.00      1.00      1.00         2\n",
      "        72.0       1.00      1.00      1.00         4\n",
      "        73.0       0.67      0.67      0.67         3\n",
      "        74.0       1.00      1.00      1.00         6\n",
      "        75.0       1.00      1.00      1.00        11\n",
      "        76.0       1.00      0.86      0.92         7\n",
      "        77.0       1.00      0.67      0.80         3\n",
      "        78.0       1.00      1.00      1.00         6\n",
      "        79.0       0.60      0.75      0.67         4\n",
      "        80.0       0.50      1.00      0.67         2\n",
      "        81.0       1.00      0.92      0.96        12\n",
      "        82.0       0.67      1.00      0.80         4\n",
      "        83.0       1.00      1.00      1.00         6\n",
      "        84.0       1.00      0.88      0.93         8\n",
      "        85.0       0.83      1.00      0.91         5\n",
      "        86.0       0.93      1.00      0.96        13\n",
      "        87.0       0.89      1.00      0.94         8\n",
      "        88.0       1.00      1.00      1.00         8\n",
      "        89.0       1.00      1.00      1.00         1\n",
      "        90.0       1.00      1.00      1.00         7\n",
      "        91.0       1.00      1.00      1.00         4\n",
      "        92.0       1.00      1.00      1.00         7\n",
      "        93.0       1.00      1.00      1.00         6\n",
      "        94.0       0.95      0.95      0.95        22\n",
      "        95.0       0.67      0.40      0.50         5\n",
      "        96.0       1.00      0.89      0.94         9\n",
      "        97.0       1.00      1.00      1.00         4\n",
      "        98.0       1.00      1.00      1.00         3\n",
      "        99.0       1.00      0.20      0.33         5\n",
      "       100.0       1.00      0.92      0.96        12\n",
      "\n",
      "    accuracy                           0.95       869\n",
      "   macro avg       0.92      0.92      0.91       869\n",
      "weighted avg       0.96      0.95      0.95       869\n",
      "\n"
     ]
    },
    {
     "name": "stderr",
     "output_type": "stream",
     "text": [
      "\n"
     ]
    }
   ],
   "source": [
    "from sklearn.metrics import classification_report\n",
    "import numpy as np\n",
    "from tqdm import tqdm\n",
    "\n",
    "# Initialize variables for the classification report\n",
    "y_true = np.array([])\n",
    "y_pred = np.array([])\n",
    "\n",
    "# Test the model\n",
    "model.eval()  # Set model to evaluation mode\n",
    "with torch.no_grad():\n",
    "    correct = 0\n",
    "    total = 0\n",
    "    for images, labels in tqdm(test_loader, desc=\"Testing\"):\n",
    "        images, labels = images.to(device), labels.to(device)\n",
    "        outputs = model(images)\n",
    "        _, predicted = torch.max(outputs.data, 1)\n",
    "        total += labels.size(0)\n",
    "        correct += (predicted == labels).sum().item()\n",
    "\n",
    "        # Append data for the classification report\n",
    "        y_true = np.concatenate((y_true, labels.cpu().numpy()))\n",
    "        y_pred = np.concatenate((y_pred, predicted.cpu().numpy()))\n",
    "\n",
    "# Calculate the accuracy of the model on the test set\n",
    "test_accuracy = 100 * correct / total\n",
    "print(f\"Test Accuracy: {test_accuracy}%\")\n",
    "\n",
    "# Generate a classification report\n",
    "report = classification_report(y_true, y_pred)\n",
    "print(\"Classification Report:\")\n",
    "print(report)"
   ]
  },
  {
   "cell_type": "code",
   "execution_count": 4,
   "id": "af047dc2-fef7-4a9f-8cf6-fa164f117242",
   "metadata": {},
   "outputs": [
    {
     "name": "stdout",
     "output_type": "stream",
     "text": [
      "Model has been saved to caltech101_vgg19bn.pth\n"
     ]
    }
   ],
   "source": [
    "torch.save(model.state_dict(), 'caltech101_vgg19bn.pth')\n",
    "print(\"Model has been saved to caltech101_vgg19bn.pth\")"
   ]
  },
  {
   "cell_type": "code",
   "execution_count": 2,
   "id": "9681101b-40af-49cf-aba9-022624ed5cb8",
   "metadata": {},
   "outputs": [
    {
     "name": "stderr",
     "output_type": "stream",
     "text": [
      "[I 2023-10-20 23:29:37,602] A new study created in memory with name: no-name-8c7d4047-20ac-4a30-a520-1514f086f09a\n",
      "Training: 100%|█████████████████████████████████| 95/95 [00:35<00:00,  2.65it/s]\n",
      "Validation: 100%|███████████████████████████████| 28/28 [00:05<00:00,  5.24it/s]\n",
      "Training: 100%|█████████████████████████████████| 95/95 [00:37<00:00,  2.56it/s]\n",
      "Validation: 100%|███████████████████████████████| 28/28 [00:05<00:00,  5.39it/s]\n",
      "Training: 100%|█████████████████████████████████| 95/95 [00:36<00:00,  2.58it/s]\n",
      "Validation: 100%|███████████████████████████████| 28/28 [00:05<00:00,  4.99it/s]\n",
      "Training: 100%|█████████████████████████████████| 95/95 [00:39<00:00,  2.43it/s]\n",
      "Validation: 100%|███████████████████████████████| 28/28 [00:05<00:00,  5.38it/s]\n",
      "Training: 100%|█████████████████████████████████| 95/95 [00:39<00:00,  2.43it/s]\n",
      "Validation: 100%|███████████████████████████████| 28/28 [00:05<00:00,  5.52it/s]\n",
      "Training: 100%|█████████████████████████████████| 95/95 [00:38<00:00,  2.49it/s]\n",
      "Validation: 100%|███████████████████████████████| 28/28 [00:06<00:00,  4.09it/s]\n",
      "Training: 100%|█████████████████████████████████| 95/95 [00:37<00:00,  2.50it/s]\n",
      "Validation: 100%|███████████████████████████████| 28/28 [00:05<00:00,  4.73it/s]\n",
      "[I 2023-10-20 23:34:42,194] Trial 0 finished with value: 94.35158501440922 and parameters: {'weight_decay': 0.0034352398471358654, 'dampening': 0.004910681929686545}. Best is trial 0 with value: 94.35158501440922.\n",
      "Training: 100%|█████████████████████████████████| 95/95 [00:38<00:00,  2.44it/s]\n",
      "Validation: 100%|███████████████████████████████| 28/28 [00:05<00:00,  5.03it/s]\n",
      "Training: 100%|█████████████████████████████████| 95/95 [00:39<00:00,  2.42it/s]\n",
      "Validation: 100%|███████████████████████████████| 28/28 [00:05<00:00,  4.73it/s]\n",
      "Training: 100%|█████████████████████████████████| 95/95 [00:37<00:00,  2.52it/s]\n",
      "Validation: 100%|███████████████████████████████| 28/28 [00:06<00:00,  4.41it/s]\n",
      "Training: 100%|█████████████████████████████████| 95/95 [00:41<00:00,  2.30it/s]\n",
      "Validation: 100%|███████████████████████████████| 28/28 [00:05<00:00,  5.54it/s]\n",
      "Training: 100%|█████████████████████████████████| 95/95 [00:46<00:00,  2.05it/s]\n",
      "Validation: 100%|███████████████████████████████| 28/28 [00:08<00:00,  3.21it/s]\n",
      "Training: 100%|█████████████████████████████████| 95/95 [00:48<00:00,  1.95it/s]\n",
      "Validation: 100%|███████████████████████████████| 28/28 [00:05<00:00,  4.75it/s]\n",
      "Training: 100%|█████████████████████████████████| 95/95 [00:44<00:00,  2.13it/s]\n",
      "Validation: 100%|███████████████████████████████| 28/28 [00:12<00:00,  2.24it/s]\n",
      "[I 2023-10-20 23:40:30,531] Trial 1 finished with value: 94.35158501440922 and parameters: {'weight_decay': 0.002457544505306779, 'dampening': 0.0007377207091997973}. Best is trial 0 with value: 94.35158501440922.\n",
      "Training: 100%|█████████████████████████████████| 95/95 [00:41<00:00,  2.32it/s]\n",
      "Validation: 100%|███████████████████████████████| 28/28 [00:05<00:00,  4.93it/s]\n",
      "Training: 100%|█████████████████████████████████| 95/95 [00:41<00:00,  2.29it/s]\n",
      "Validation: 100%|███████████████████████████████| 28/28 [00:09<00:00,  2.99it/s]\n",
      "Training: 100%|█████████████████████████████████| 95/95 [00:40<00:00,  2.35it/s]\n",
      "Validation: 100%|███████████████████████████████| 28/28 [00:05<00:00,  4.81it/s]\n",
      "Training: 100%|█████████████████████████████████| 95/95 [00:41<00:00,  2.31it/s]\n",
      "Validation: 100%|███████████████████████████████| 28/28 [00:09<00:00,  3.06it/s]\n",
      "Training: 100%|█████████████████████████████████| 95/95 [00:40<00:00,  2.34it/s]\n",
      "Validation: 100%|███████████████████████████████| 28/28 [00:05<00:00,  5.02it/s]\n",
      "Training: 100%|█████████████████████████████████| 95/95 [00:44<00:00,  2.15it/s]\n",
      "Validation: 100%|███████████████████████████████| 28/28 [00:07<00:00,  3.62it/s]\n",
      "Training: 100%|█████████████████████████████████| 95/95 [00:42<00:00,  2.23it/s]\n",
      "Validation: 100%|███████████████████████████████| 28/28 [00:05<00:00,  4.76it/s]\n",
      "[I 2023-10-20 23:46:12,747] Trial 2 finished with value: 94.17867435158502 and parameters: {'weight_decay': 0.002713859212525819, 'dampening': 0.0010551886045813636}. Best is trial 0 with value: 94.35158501440922.\n",
      "Training: 100%|█████████████████████████████████| 95/95 [00:39<00:00,  2.38it/s]\n",
      "Validation: 100%|███████████████████████████████| 28/28 [00:08<00:00,  3.47it/s]\n",
      "Training: 100%|█████████████████████████████████| 95/95 [00:42<00:00,  2.23it/s]\n",
      "Validation: 100%|███████████████████████████████| 28/28 [00:05<00:00,  4.97it/s]\n",
      "Training: 100%|█████████████████████████████████| 95/95 [00:44<00:00,  2.13it/s]\n",
      "Validation: 100%|███████████████████████████████| 28/28 [00:04<00:00,  6.03it/s]\n",
      "Training: 100%|█████████████████████████████████| 95/95 [00:36<00:00,  2.58it/s]\n",
      "Validation: 100%|███████████████████████████████| 28/28 [00:06<00:00,  4.26it/s]\n",
      "Training: 100%|█████████████████████████████████| 95/95 [00:37<00:00,  2.56it/s]\n",
      "Validation: 100%|███████████████████████████████| 28/28 [00:04<00:00,  5.68it/s]\n",
      "Training: 100%|█████████████████████████████████| 95/95 [00:36<00:00,  2.61it/s]\n",
      "Validation: 100%|███████████████████████████████| 28/28 [00:04<00:00,  6.00it/s]\n",
      "Training: 100%|█████████████████████████████████| 95/95 [00:36<00:00,  2.60it/s]\n",
      "Validation: 100%|███████████████████████████████| 28/28 [00:06<00:00,  4.21it/s]\n",
      "[I 2023-10-20 23:51:29,048] Trial 3 finished with value: 94.5821325648415 and parameters: {'weight_decay': 0.0009228878469963914, 'dampening': 0.0023574639489792634}. Best is trial 3 with value: 94.5821325648415.\n",
      "Training: 100%|█████████████████████████████████| 95/95 [00:36<00:00,  2.60it/s]\n",
      "Validation: 100%|███████████████████████████████| 28/28 [00:04<00:00,  6.00it/s]\n",
      "Training: 100%|█████████████████████████████████| 95/95 [00:35<00:00,  2.64it/s]\n",
      "Validation: 100%|███████████████████████████████| 28/28 [00:04<00:00,  5.76it/s]\n",
      "Training: 100%|█████████████████████████████████| 95/95 [00:36<00:00,  2.62it/s]\n",
      "Validation: 100%|███████████████████████████████| 28/28 [00:05<00:00,  4.77it/s]\n",
      "Training: 100%|█████████████████████████████████| 95/95 [00:37<00:00,  2.56it/s]\n",
      "Validation: 100%|███████████████████████████████| 28/28 [00:05<00:00,  5.08it/s]\n",
      "Training: 100%|█████████████████████████████████| 95/95 [00:36<00:00,  2.62it/s]\n",
      "Validation: 100%|███████████████████████████████| 28/28 [00:04<00:00,  5.91it/s]\n",
      "Training: 100%|█████████████████████████████████| 95/95 [00:36<00:00,  2.62it/s]\n",
      "Validation: 100%|███████████████████████████████| 28/28 [00:04<00:00,  5.93it/s]\n",
      "Training: 100%|█████████████████████████████████| 95/95 [00:36<00:00,  2.62it/s]\n",
      "Validation: 100%|███████████████████████████████| 28/28 [00:06<00:00,  4.53it/s]\n",
      "[I 2023-10-20 23:56:22,447] Trial 4 finished with value: 94.4092219020173 and parameters: {'weight_decay': 0.004656783220478978, 'dampening': 0.004268176431482016}. Best is trial 3 with value: 94.5821325648415.\n",
      "Training: 100%|█████████████████████████████████| 95/95 [00:36<00:00,  2.57it/s]\n",
      "Validation: 100%|███████████████████████████████| 28/28 [00:04<00:00,  5.73it/s]\n",
      "Training: 100%|█████████████████████████████████| 95/95 [00:36<00:00,  2.61it/s]\n",
      "Validation: 100%|███████████████████████████████| 28/28 [00:04<00:00,  6.00it/s]\n",
      "Training: 100%|█████████████████████████████████| 95/95 [00:36<00:00,  2.62it/s]\n",
      "Validation: 100%|███████████████████████████████| 28/28 [00:04<00:00,  5.69it/s]\n",
      "Training: 100%|█████████████████████████████████| 95/95 [00:36<00:00,  2.59it/s]\n",
      "Validation: 100%|███████████████████████████████| 28/28 [00:07<00:00,  3.62it/s]\n",
      "Training: 100%|█████████████████████████████████| 95/95 [00:36<00:00,  2.58it/s]\n",
      "Validation: 100%|███████████████████████████████| 28/28 [00:04<00:00,  5.96it/s]\n",
      "Training: 100%|█████████████████████████████████| 95/95 [00:35<00:00,  2.65it/s]\n",
      "Validation: 100%|███████████████████████████████| 28/28 [00:04<00:00,  5.66it/s]\n",
      "Training: 100%|█████████████████████████████████| 95/95 [00:36<00:00,  2.57it/s]\n",
      "Validation: 100%|███████████████████████████████| 28/28 [00:05<00:00,  5.44it/s]\n",
      "[I 2023-10-21 00:01:17,590] Trial 5 finished with value: 94.00576368876081 and parameters: {'weight_decay': 0.0014184008442183755, 'dampening': 0.0017963424964585533}. Best is trial 3 with value: 94.5821325648415.\n",
      "Training: 100%|█████████████████████████████████| 95/95 [00:37<00:00,  2.56it/s]\n",
      "Validation: 100%|███████████████████████████████| 28/28 [00:06<00:00,  4.07it/s]\n",
      "Training: 100%|█████████████████████████████████| 95/95 [00:36<00:00,  2.59it/s]\n",
      "Validation: 100%|███████████████████████████████| 28/28 [00:04<00:00,  5.95it/s]\n",
      "Training: 100%|█████████████████████████████████| 95/95 [00:36<00:00,  2.64it/s]\n",
      "Validation: 100%|███████████████████████████████| 28/28 [00:04<00:00,  5.90it/s]\n",
      "Training: 100%|█████████████████████████████████| 95/95 [00:36<00:00,  2.62it/s]\n",
      "Validation: 100%|███████████████████████████████| 28/28 [00:06<00:00,  4.03it/s]\n",
      "Training: 100%|█████████████████████████████████| 95/95 [00:37<00:00,  2.55it/s]\n",
      "Validation: 100%|███████████████████████████████| 28/28 [00:04<00:00,  5.84it/s]\n",
      "Training: 100%|█████████████████████████████████| 95/95 [00:38<00:00,  2.48it/s]\n",
      "Validation: 100%|███████████████████████████████| 28/28 [00:05<00:00,  5.46it/s]\n",
      "Training: 100%|█████████████████████████████████| 95/95 [00:38<00:00,  2.44it/s]\n",
      "Validation: 100%|███████████████████████████████| 28/28 [00:06<00:00,  4.58it/s]\n",
      "[I 2023-10-21 00:06:19,614] Trial 6 finished with value: 94.5821325648415 and parameters: {'weight_decay': 0.003539135357994051, 'dampening': 0.0020370227407217993}. Best is trial 3 with value: 94.5821325648415.\n",
      "Training: 100%|█████████████████████████████████| 95/95 [00:38<00:00,  2.47it/s]\n",
      "Validation: 100%|███████████████████████████████| 28/28 [00:05<00:00,  5.50it/s]\n",
      "Training: 100%|█████████████████████████████████| 95/95 [00:41<00:00,  2.30it/s]\n",
      "Validation: 100%|███████████████████████████████| 28/28 [00:04<00:00,  5.68it/s]\n",
      "Training: 100%|█████████████████████████████████| 95/95 [00:40<00:00,  2.37it/s]\n",
      "Validation: 100%|███████████████████████████████| 28/28 [00:08<00:00,  3.13it/s]\n",
      "Training: 100%|█████████████████████████████████| 95/95 [00:43<00:00,  2.19it/s]\n",
      "Validation: 100%|███████████████████████████████| 28/28 [00:05<00:00,  5.32it/s]\n",
      "Training: 100%|█████████████████████████████████| 95/95 [00:45<00:00,  2.07it/s]\n",
      "Validation: 100%|███████████████████████████████| 28/28 [00:13<00:00,  2.14it/s]\n",
      "Training: 100%|█████████████████████████████████| 95/95 [00:46<00:00,  2.06it/s]\n",
      "Validation: 100%|███████████████████████████████| 28/28 [00:06<00:00,  4.01it/s]\n",
      "Training: 100%|█████████████████████████████████| 95/95 [00:44<00:00,  2.12it/s]\n",
      "Validation: 100%|███████████████████████████████| 28/28 [00:12<00:00,  2.16it/s]\n",
      "[I 2023-10-21 00:12:19,363] Trial 7 finished with value: 94.17867435158502 and parameters: {'weight_decay': 0.0014074901992454298, 'dampening': 0.003973479387865252}. Best is trial 3 with value: 94.5821325648415.\n",
      "Training: 100%|█████████████████████████████████| 95/95 [00:46<00:00,  2.04it/s]\n",
      "Validation: 100%|███████████████████████████████| 28/28 [00:06<00:00,  4.14it/s]\n",
      "Training: 100%|█████████████████████████████████| 95/95 [00:49<00:00,  1.93it/s]\n",
      "Validation: 100%|███████████████████████████████| 28/28 [00:11<00:00,  2.43it/s]\n",
      "Training: 100%|█████████████████████████████████| 95/95 [00:47<00:00,  2.01it/s]\n",
      "Validation: 100%|███████████████████████████████| 28/28 [00:09<00:00,  2.90it/s]\n",
      "Training: 100%|█████████████████████████████████| 95/95 [00:54<00:00,  1.76it/s]\n",
      "Validation: 100%|███████████████████████████████| 28/28 [00:07<00:00,  3.68it/s]\n",
      "Training: 100%|█████████████████████████████████| 95/95 [00:50<00:00,  1.86it/s]\n",
      "Validation: 100%|███████████████████████████████| 28/28 [00:11<00:00,  2.36it/s]\n",
      "Training: 100%|█████████████████████████████████| 95/95 [00:46<00:00,  2.06it/s]\n",
      "Validation: 100%|███████████████████████████████| 28/28 [00:04<00:00,  5.71it/s]\n",
      "Training: 100%|█████████████████████████████████| 95/95 [00:37<00:00,  2.53it/s]\n",
      "Validation: 100%|███████████████████████████████| 28/28 [00:05<00:00,  4.77it/s]\n",
      "[I 2023-10-21 00:18:50,432] Trial 8 finished with value: 94.5821325648415 and parameters: {'weight_decay': 0.001106759070450747, 'dampening': 0.00452955160410926}. Best is trial 3 with value: 94.5821325648415.\n",
      "Training: 100%|█████████████████████████████████| 95/95 [00:37<00:00,  2.53it/s]\n",
      "Validation: 100%|███████████████████████████████| 28/28 [00:05<00:00,  4.68it/s]\n",
      "Training: 100%|█████████████████████████████████| 95/95 [00:35<00:00,  2.66it/s]\n",
      "Validation: 100%|███████████████████████████████| 28/28 [00:05<00:00,  4.75it/s]\n",
      "Training: 100%|█████████████████████████████████| 95/95 [00:35<00:00,  2.67it/s]\n",
      "Validation: 100%|███████████████████████████████| 28/28 [00:05<00:00,  4.84it/s]\n",
      "Training: 100%|█████████████████████████████████| 95/95 [00:37<00:00,  2.55it/s]\n",
      "Validation: 100%|███████████████████████████████| 28/28 [00:04<00:00,  5.82it/s]\n",
      "Training: 100%|█████████████████████████████████| 95/95 [00:36<00:00,  2.60it/s]\n",
      "Validation: 100%|███████████████████████████████| 28/28 [00:06<00:00,  4.34it/s]\n",
      "Training: 100%|█████████████████████████████████| 95/95 [00:36<00:00,  2.63it/s]\n",
      "Validation: 100%|███████████████████████████████| 28/28 [00:05<00:00,  5.06it/s]\n",
      "Training: 100%|█████████████████████████████████| 95/95 [00:36<00:00,  2.59it/s]\n",
      "Validation: 100%|███████████████████████████████| 28/28 [00:05<00:00,  4.74it/s]\n",
      "[I 2023-10-21 00:23:47,794] Trial 9 finished with value: 94.00576368876081 and parameters: {'weight_decay': 0.00034093712180488403, 'dampening': 0.0019469789314878767}. Best is trial 3 with value: 94.5821325648415.\n",
      "Training: 100%|█████████████████████████████████| 95/95 [00:37<00:00,  2.53it/s]\n",
      "Validation: 100%|███████████████████████████████| 28/28 [00:05<00:00,  5.60it/s]\n",
      "Training: 100%|█████████████████████████████████| 95/95 [00:36<00:00,  2.63it/s]\n",
      "Validation: 100%|███████████████████████████████| 28/28 [00:05<00:00,  4.67it/s]\n",
      "Training: 100%|█████████████████████████████████| 95/95 [00:37<00:00,  2.56it/s]\n",
      "Validation: 100%|███████████████████████████████| 28/28 [00:04<00:00,  5.63it/s]\n",
      "Training: 100%|█████████████████████████████████| 95/95 [00:36<00:00,  2.58it/s]\n",
      "Validation: 100%|███████████████████████████████| 28/28 [00:05<00:00,  4.76it/s]\n",
      "Training: 100%|█████████████████████████████████| 95/95 [00:37<00:00,  2.52it/s]\n",
      "Validation: 100%|███████████████████████████████| 28/28 [00:04<00:00,  5.78it/s]\n",
      "Training: 100%|█████████████████████████████████| 95/95 [00:40<00:00,  2.32it/s]\n",
      "Validation: 100%|███████████████████████████████| 28/28 [00:07<00:00,  3.61it/s]\n",
      "Training: 100%|█████████████████████████████████| 95/95 [00:38<00:00,  2.46it/s]\n",
      "Validation: 100%|███████████████████████████████| 28/28 [00:05<00:00,  5.35it/s]\n",
      "[I 2023-10-21 00:28:54,011] Trial 10 finished with value: 94.52449567723343 and parameters: {'weight_decay': 0.00020635261038388453, 'dampening': 0.0031294854357630597}. Best is trial 3 with value: 94.5821325648415.\n",
      "Training: 100%|█████████████████████████████████| 95/95 [00:33<00:00,  2.83it/s]\n",
      "Validation: 100%|███████████████████████████████| 28/28 [00:05<00:00,  5.40it/s]\n",
      "Training: 100%|█████████████████████████████████| 95/95 [00:33<00:00,  2.87it/s]\n",
      "Validation: 100%|███████████████████████████████| 28/28 [00:05<00:00,  5.48it/s]\n",
      "Training: 100%|█████████████████████████████████| 95/95 [00:34<00:00,  2.74it/s]\n",
      "Validation: 100%|███████████████████████████████| 28/28 [00:04<00:00,  6.31it/s]\n",
      "Training: 100%|█████████████████████████████████| 95/95 [00:33<00:00,  2.80it/s]\n",
      "Validation: 100%|███████████████████████████████| 28/28 [00:05<00:00,  5.38it/s]\n",
      "Training: 100%|█████████████████████████████████| 95/95 [00:32<00:00,  2.88it/s]\n",
      "Validation: 100%|███████████████████████████████| 28/28 [00:05<00:00,  5.37it/s]\n",
      "Training: 100%|█████████████████████████████████| 95/95 [00:34<00:00,  2.74it/s]\n",
      "Validation: 100%|███████████████████████████████| 28/28 [00:04<00:00,  5.64it/s]\n",
      "Training: 100%|█████████████████████████████████| 95/95 [00:33<00:00,  2.80it/s]\n",
      "Validation: 100%|███████████████████████████████| 28/28 [00:05<00:00,  5.08it/s]\n",
      "[I 2023-10-21 00:33:27,823] Trial 11 finished with value: 94.00576368876081 and parameters: {'weight_decay': 0.003943615910303407, 'dampening': 0.002657533987800414}. Best is trial 3 with value: 94.5821325648415.\n",
      "Training: 100%|█████████████████████████████████| 95/95 [00:33<00:00,  2.86it/s]\n",
      "Validation: 100%|███████████████████████████████| 28/28 [00:04<00:00,  5.77it/s]\n",
      "Training: 100%|█████████████████████████████████| 95/95 [00:34<00:00,  2.78it/s]\n",
      "Validation: 100%|███████████████████████████████| 28/28 [00:04<00:00,  5.83it/s]\n",
      "Training: 100%|█████████████████████████████████| 95/95 [00:33<00:00,  2.85it/s]\n",
      "Validation: 100%|███████████████████████████████| 28/28 [00:05<00:00,  5.38it/s]\n",
      "Training: 100%|█████████████████████████████████| 95/95 [00:34<00:00,  2.77it/s]\n",
      "Validation: 100%|███████████████████████████████| 28/28 [00:04<00:00,  6.23it/s]\n",
      "Training: 100%|█████████████████████████████████| 95/95 [00:34<00:00,  2.79it/s]\n",
      "Validation: 100%|███████████████████████████████| 28/28 [00:05<00:00,  5.15it/s]\n",
      "Training: 100%|█████████████████████████████████| 95/95 [00:33<00:00,  2.83it/s]\n",
      "Validation: 100%|███████████████████████████████| 28/28 [00:06<00:00,  4.31it/s]\n",
      "Training: 100%|█████████████████████████████████| 95/95 [00:34<00:00,  2.74it/s]\n",
      "Validation: 100%|███████████████████████████████| 28/28 [00:05<00:00,  5.34it/s]\n",
      "[I 2023-10-21 00:38:03,208] Trial 12 finished with value: 94.87031700288185 and parameters: {'weight_decay': 0.0024598918481714025, 'dampening': 0.003096144507515209}. Best is trial 12 with value: 94.87031700288185.\n",
      "Training: 100%|█████████████████████████████████| 95/95 [00:33<00:00,  2.88it/s]\n",
      "Validation: 100%|███████████████████████████████| 28/28 [00:05<00:00,  5.30it/s]\n",
      "Training: 100%|█████████████████████████████████| 95/95 [00:35<00:00,  2.71it/s]\n",
      "Validation: 100%|███████████████████████████████| 28/28 [00:04<00:00,  5.72it/s]\n",
      "Training: 100%|█████████████████████████████████| 95/95 [00:33<00:00,  2.86it/s]\n",
      "Validation: 100%|███████████████████████████████| 28/28 [00:05<00:00,  5.25it/s]\n",
      "Training: 100%|█████████████████████████████████| 95/95 [00:34<00:00,  2.77it/s]\n",
      "Validation: 100%|███████████████████████████████| 28/28 [00:04<00:00,  6.25it/s]\n",
      "Training: 100%|█████████████████████████████████| 95/95 [00:34<00:00,  2.78it/s]\n",
      "Validation: 100%|███████████████████████████████| 28/28 [00:05<00:00,  5.25it/s]\n",
      "Training: 100%|█████████████████████████████████| 95/95 [00:33<00:00,  2.81it/s]\n",
      "Validation: 100%|███████████████████████████████| 28/28 [00:04<00:00,  6.32it/s]\n",
      "Training: 100%|█████████████████████████████████| 95/95 [00:34<00:00,  2.75it/s]\n",
      "Validation: 100%|███████████████████████████████| 28/28 [00:04<00:00,  6.27it/s]\n",
      "[I 2023-10-21 00:42:37,231] Trial 13 finished with value: 94.00576368876081 and parameters: {'weight_decay': 0.0024404389124060596, 'dampening': 0.0033781328273778124}. Best is trial 12 with value: 94.87031700288185.\n",
      "Training: 100%|█████████████████████████████████| 95/95 [00:33<00:00,  2.82it/s]\n",
      "Validation: 100%|███████████████████████████████| 28/28 [00:05<00:00,  5.24it/s]\n",
      "Training: 100%|█████████████████████████████████| 95/95 [00:33<00:00,  2.86it/s]\n",
      "Validation: 100%|███████████████████████████████| 28/28 [00:05<00:00,  5.34it/s]\n",
      "Training: 100%|█████████████████████████████████| 95/95 [00:34<00:00,  2.77it/s]\n",
      "Validation: 100%|███████████████████████████████| 28/28 [00:04<00:00,  5.95it/s]\n",
      "Training: 100%|█████████████████████████████████| 95/95 [00:34<00:00,  2.78it/s]\n",
      "Validation: 100%|███████████████████████████████| 28/28 [00:05<00:00,  5.32it/s]\n",
      "Training: 100%|█████████████████████████████████| 95/95 [00:33<00:00,  2.85it/s]\n",
      "Validation: 100%|███████████████████████████████| 28/28 [00:05<00:00,  5.27it/s]\n",
      "Training: 100%|█████████████████████████████████| 95/95 [00:34<00:00,  2.78it/s]\n",
      "Validation: 100%|███████████████████████████████| 28/28 [00:04<00:00,  6.26it/s]\n",
      "Training: 100%|█████████████████████████████████| 95/95 [00:33<00:00,  2.80it/s]\n",
      "Validation: 100%|███████████████████████████████| 28/28 [00:04<00:00,  6.22it/s]\n",
      "[I 2023-10-21 00:47:10,228] Trial 14 finished with value: 94.06340057636888 and parameters: {'weight_decay': 0.0019525938523694574, 'dampening': 0.0027291556973927547}. Best is trial 12 with value: 94.87031700288185.\n",
      "Training: 100%|█████████████████████████████████| 95/95 [00:34<00:00,  2.79it/s]\n",
      "Validation: 100%|███████████████████████████████| 28/28 [00:05<00:00,  5.03it/s]\n",
      "Training: 100%|█████████████████████████████████| 95/95 [00:33<00:00,  2.87it/s]\n",
      "Validation: 100%|███████████████████████████████| 28/28 [00:05<00:00,  5.26it/s]\n",
      "Training: 100%|█████████████████████████████████| 95/95 [00:35<00:00,  2.71it/s]\n",
      "Validation: 100%|███████████████████████████████| 28/28 [00:05<00:00,  5.28it/s]\n",
      "Training: 100%|█████████████████████████████████| 95/95 [00:33<00:00,  2.87it/s]\n",
      "Validation: 100%|███████████████████████████████| 28/28 [00:05<00:00,  5.26it/s]\n",
      "Training: 100%|█████████████████████████████████| 95/95 [00:33<00:00,  2.82it/s]\n",
      "Validation: 100%|███████████████████████████████| 28/28 [00:04<00:00,  5.65it/s]\n",
      "Training: 100%|█████████████████████████████████| 95/95 [00:33<00:00,  2.82it/s]\n",
      "Validation: 100%|███████████████████████████████| 28/28 [00:04<00:00,  5.86it/s]\n",
      "Training: 100%|█████████████████████████████████| 95/95 [00:34<00:00,  2.75it/s]\n",
      "Validation: 100%|███████████████████████████████| 28/28 [00:04<00:00,  6.21it/s]\n",
      "[I 2023-10-21 00:51:44,555] Trial 15 finished with value: 94.63976945244957 and parameters: {'weight_decay': 0.0007595486778931716, 'dampening': 0.0036274538478488954}. Best is trial 12 with value: 94.87031700288185.\n",
      "Training: 100%|█████████████████████████████████| 95/95 [00:34<00:00,  2.77it/s]\n",
      "Validation: 100%|███████████████████████████████| 28/28 [00:05<00:00,  4.68it/s]\n",
      "Training: 100%|█████████████████████████████████| 95/95 [00:33<00:00,  2.85it/s]\n",
      "Validation: 100%|███████████████████████████████| 28/28 [00:05<00:00,  5.17it/s]\n",
      "Training: 100%|█████████████████████████████████| 95/95 [00:34<00:00,  2.77it/s]\n",
      "Validation: 100%|███████████████████████████████| 28/28 [00:04<00:00,  6.18it/s]\n",
      "Training: 100%|█████████████████████████████████| 95/95 [00:34<00:00,  2.78it/s]\n",
      "Validation: 100%|███████████████████████████████| 28/28 [00:05<00:00,  4.96it/s]\n",
      "Training: 100%|█████████████████████████████████| 95/95 [00:33<00:00,  2.84it/s]\n",
      "Validation: 100%|███████████████████████████████| 28/28 [00:05<00:00,  5.49it/s]\n",
      "Training: 100%|█████████████████████████████████| 95/95 [00:34<00:00,  2.79it/s]\n",
      "Validation: 100%|███████████████████████████████| 28/28 [00:05<00:00,  5.23it/s]\n",
      "Training: 100%|█████████████████████████████████| 95/95 [00:33<00:00,  2.81it/s]\n",
      "Validation: 100%|███████████████████████████████| 28/28 [00:04<00:00,  6.23it/s]\n",
      "[I 2023-10-21 00:56:19,918] Trial 16 finished with value: 94.4092219020173 and parameters: {'weight_decay': 8.425058198271887e-06, 'dampening': 0.00367786952015464}. Best is trial 12 with value: 94.87031700288185.\n",
      "Training: 100%|█████████████████████████████████| 95/95 [00:35<00:00,  2.71it/s]\n",
      "Validation: 100%|███████████████████████████████| 28/28 [00:05<00:00,  5.25it/s]\n",
      "Training: 100%|█████████████████████████████████| 95/95 [00:33<00:00,  2.83it/s]\n",
      "Validation: 100%|███████████████████████████████| 28/28 [00:05<00:00,  5.59it/s]\n",
      "Training: 100%|█████████████████████████████████| 95/95 [00:34<00:00,  2.72it/s]\n",
      "Validation: 100%|███████████████████████████████| 28/28 [00:04<00:00,  6.22it/s]\n",
      "Training: 100%|█████████████████████████████████| 95/95 [00:34<00:00,  2.77it/s]\n",
      "Validation: 100%|███████████████████████████████| 28/28 [00:05<00:00,  5.16it/s]\n",
      "Training: 100%|█████████████████████████████████| 95/95 [00:33<00:00,  2.85it/s]\n",
      "Validation: 100%|███████████████████████████████| 28/28 [00:05<00:00,  5.25it/s]\n",
      "Training: 100%|█████████████████████████████████| 95/95 [00:34<00:00,  2.79it/s]\n",
      "Validation: 100%|███████████████████████████████| 28/28 [00:04<00:00,  6.09it/s]\n",
      "Training: 100%|█████████████████████████████████| 95/95 [00:34<00:00,  2.75it/s]\n",
      "Validation: 100%|███████████████████████████████| 28/28 [00:04<00:00,  5.92it/s]\n",
      "[I 2023-10-21 01:00:55,913] Trial 17 finished with value: 94.00576368876081 and parameters: {'weight_decay': 0.0019144908814433506, 'dampening': 0.0035525365954915534}. Best is trial 12 with value: 94.87031700288185.\n",
      "Training: 100%|█████████████████████████████████| 95/95 [00:34<00:00,  2.79it/s]\n",
      "Validation: 100%|███████████████████████████████| 28/28 [00:05<00:00,  5.21it/s]\n",
      "Training: 100%|█████████████████████████████████| 95/95 [00:33<00:00,  2.82it/s]\n",
      "Validation: 100%|███████████████████████████████| 28/28 [00:05<00:00,  5.21it/s]\n",
      "Training: 100%|█████████████████████████████████| 95/95 [00:34<00:00,  2.72it/s]\n",
      "Validation: 100%|███████████████████████████████| 28/28 [00:04<00:00,  6.16it/s]\n",
      "Training: 100%|█████████████████████████████████| 95/95 [00:33<00:00,  2.80it/s]\n",
      "Validation: 100%|███████████████████████████████| 28/28 [00:05<00:00,  5.24it/s]\n",
      "Training: 100%|█████████████████████████████████| 95/95 [00:34<00:00,  2.79it/s]\n",
      "Validation: 100%|███████████████████████████████| 28/28 [00:04<00:00,  6.18it/s]\n",
      "Training: 100%|█████████████████████████████████| 95/95 [00:34<00:00,  2.74it/s]\n",
      "Validation: 100%|███████████████████████████████| 28/28 [00:04<00:00,  6.20it/s]\n",
      "Training: 100%|█████████████████████████████████| 95/95 [00:33<00:00,  2.80it/s]\n",
      "Validation: 100%|███████████████████████████████| 28/28 [00:05<00:00,  5.07it/s]\n",
      "[I 2023-10-21 01:05:31,744] Trial 18 finished with value: 93.89048991354467 and parameters: {'weight_decay': 0.0007217598214079711, 'dampening': 0.0030636803697775576}. Best is trial 12 with value: 94.87031700288185.\n",
      "Training: 100%|█████████████████████████████████| 95/95 [00:34<00:00,  2.77it/s]\n",
      "Validation: 100%|███████████████████████████████| 28/28 [00:04<00:00,  6.15it/s]\n",
      "Training: 100%|█████████████████████████████████| 95/95 [00:34<00:00,  2.79it/s]\n",
      "Validation: 100%|███████████████████████████████| 28/28 [00:04<00:00,  6.05it/s]\n",
      "Training: 100%|█████████████████████████████████| 95/95 [00:35<00:00,  2.68it/s]\n",
      "Validation: 100%|███████████████████████████████| 28/28 [00:05<00:00,  5.18it/s]\n",
      "Training: 100%|█████████████████████████████████| 95/95 [00:33<00:00,  2.83it/s]\n",
      "Validation: 100%|███████████████████████████████| 28/28 [00:05<00:00,  5.24it/s]\n",
      "Training: 100%|█████████████████████████████████| 95/95 [00:35<00:00,  2.70it/s]\n",
      "Validation: 100%|███████████████████████████████| 28/28 [00:04<00:00,  5.74it/s]\n",
      "Training: 100%|█████████████████████████████████| 95/95 [00:33<00:00,  2.82it/s]\n",
      "Validation: 100%|███████████████████████████████| 28/28 [00:05<00:00,  5.16it/s]\n",
      "Training: 100%|█████████████████████████████████| 95/95 [00:34<00:00,  2.79it/s]\n",
      "Validation: 100%|███████████████████████████████| 28/28 [00:04<00:00,  6.14it/s]\n",
      "[I 2023-10-21 01:10:08,439] Trial 19 finished with value: 94.35158501440922 and parameters: {'weight_decay': 0.0017105308915434081, 'dampening': 1.4005748661877378e-05}. Best is trial 12 with value: 94.87031700288185.\n",
      "Training: 100%|█████████████████████████████████| 95/95 [00:34<00:00,  2.76it/s]\n",
      "Validation: 100%|███████████████████████████████| 28/28 [00:04<00:00,  6.16it/s]\n",
      "Training: 100%|█████████████████████████████████| 95/95 [00:34<00:00,  2.75it/s]\n",
      "Validation: 100%|███████████████████████████████| 28/28 [00:04<00:00,  5.66it/s]\n",
      "Training: 100%|█████████████████████████████████| 95/95 [00:33<00:00,  2.82it/s]\n",
      "Validation: 100%|███████████████████████████████| 28/28 [00:05<00:00,  4.96it/s]\n",
      "Training: 100%|█████████████████████████████████| 95/95 [00:33<00:00,  2.84it/s]\n",
      "Validation: 100%|███████████████████████████████| 28/28 [00:05<00:00,  5.15it/s]\n",
      "Training: 100%|█████████████████████████████████| 95/95 [00:35<00:00,  2.70it/s]\n",
      "Validation: 100%|███████████████████████████████| 28/28 [00:05<00:00,  5.22it/s]\n",
      "Training: 100%|█████████████████████████████████| 95/95 [00:33<00:00,  2.81it/s]\n",
      "Validation: 100%|███████████████████████████████| 28/28 [00:04<00:00,  6.02it/s]\n",
      "Training: 100%|█████████████████████████████████| 95/95 [00:34<00:00,  2.72it/s]\n",
      "Validation: 100%|███████████████████████████████| 28/28 [00:04<00:00,  6.14it/s]\n",
      "[I 2023-10-21 01:14:45,002] Trial 20 finished with value: 94.29394812680115 and parameters: {'weight_decay': 0.0008364769856106797, 'dampening': 0.003985593241854317}. Best is trial 12 with value: 94.87031700288185.\n",
      "Training: 100%|█████████████████████████████████| 95/95 [00:34<00:00,  2.77it/s]\n",
      "Validation: 100%|███████████████████████████████| 28/28 [00:05<00:00,  4.97it/s]\n",
      "Training: 100%|█████████████████████████████████| 95/95 [00:33<00:00,  2.84it/s]\n",
      "Validation: 100%|███████████████████████████████| 28/28 [00:05<00:00,  5.12it/s]\n",
      "Training: 100%|█████████████████████████████████| 95/95 [00:33<00:00,  2.82it/s]\n",
      "Validation: 100%|███████████████████████████████| 28/28 [00:05<00:00,  5.50it/s]\n",
      "Training: 100%|█████████████████████████████████| 95/95 [00:34<00:00,  2.72it/s]\n",
      "Validation: 100%|███████████████████████████████| 28/28 [00:04<00:00,  6.06it/s]\n",
      "Training: 100%|█████████████████████████████████| 95/95 [00:34<00:00,  2.75it/s]\n",
      "Validation: 100%|███████████████████████████████| 28/28 [00:05<00:00,  5.16it/s]\n",
      "Training: 100%|█████████████████████████████████| 95/95 [00:33<00:00,  2.83it/s]\n",
      "Validation: 100%|███████████████████████████████| 28/28 [00:05<00:00,  4.89it/s]\n",
      "Training: 100%|█████████████████████████████████| 95/95 [00:34<00:00,  2.76it/s]\n",
      "Validation: 100%|███████████████████████████████| 28/28 [00:04<00:00,  6.09it/s]\n",
      "[I 2023-10-21 01:19:21,818] Trial 21 finished with value: 93.89048991354467 and parameters: {'weight_decay': 0.0006850696779664995, 'dampening': 0.0024479013223223448}. Best is trial 12 with value: 94.87031700288185.\n",
      "Training: 100%|█████████████████████████████████| 95/95 [00:34<00:00,  2.72it/s]\n",
      "Validation: 100%|███████████████████████████████| 28/28 [00:05<00:00,  5.59it/s]\n",
      "Training: 100%|█████████████████████████████████| 95/95 [00:33<00:00,  2.82it/s]\n",
      "Validation: 100%|███████████████████████████████| 28/28 [00:05<00:00,  5.09it/s]\n",
      "Training: 100%|█████████████████████████████████| 95/95 [00:33<00:00,  2.80it/s]\n",
      "Validation: 100%|███████████████████████████████| 28/28 [00:05<00:00,  5.08it/s]\n",
      "Training: 100%|█████████████████████████████████| 95/95 [00:34<00:00,  2.78it/s]\n",
      "Validation: 100%|███████████████████████████████| 28/28 [00:04<00:00,  5.88it/s]\n",
      "Training: 100%|█████████████████████████████████| 95/95 [00:35<00:00,  2.71it/s]\n",
      "Validation: 100%|███████████████████████████████| 28/28 [00:05<00:00,  5.16it/s]\n",
      "Training: 100%|█████████████████████████████████| 95/95 [00:33<00:00,  2.82it/s]\n",
      "Validation: 100%|███████████████████████████████| 28/28 [00:05<00:00,  5.19it/s]\n",
      "Training: 100%|█████████████████████████████████| 95/95 [00:34<00:00,  2.72it/s]\n",
      "Validation: 100%|███████████████████████████████| 28/28 [00:04<00:00,  6.07it/s]\n",
      "[I 2023-10-21 01:23:59,657] Trial 22 finished with value: 94.23631123919309 and parameters: {'weight_decay': 0.0010374565714083353, 'dampening': 0.003139915843764036}. Best is trial 12 with value: 94.87031700288185.\n",
      "Training: 100%|█████████████████████████████████| 95/95 [00:34<00:00,  2.76it/s]\n",
      "Validation: 100%|███████████████████████████████| 28/28 [00:05<00:00,  5.11it/s]\n",
      "Training: 100%|█████████████████████████████████| 95/95 [00:33<00:00,  2.80it/s]\n",
      "Validation: 100%|███████████████████████████████| 28/28 [00:04<00:00,  5.82it/s]\n",
      "Training: 100%|█████████████████████████████████| 95/95 [00:34<00:00,  2.72it/s]\n",
      "Validation: 100%|███████████████████████████████| 28/28 [00:04<00:00,  6.08it/s]\n",
      "Training: 100%|█████████████████████████████████| 95/95 [00:34<00:00,  2.78it/s]\n",
      "Validation: 100%|███████████████████████████████| 28/28 [00:04<00:00,  5.96it/s]\n",
      "Training: 100%|█████████████████████████████████| 95/95 [00:34<00:00,  2.75it/s]\n",
      "Validation: 100%|███████████████████████████████| 28/28 [00:06<00:00,  4.51it/s]\n",
      "Training: 100%|█████████████████████████████████| 95/95 [00:34<00:00,  2.78it/s]\n",
      "Validation: 100%|███████████████████████████████| 28/28 [00:05<00:00,  5.16it/s]\n",
      "Training: 100%|█████████████████████████████████| 95/95 [00:34<00:00,  2.72it/s]\n",
      "Validation: 100%|███████████████████████████████| 28/28 [00:04<00:00,  5.80it/s]\n",
      "[I 2023-10-21 01:28:37,944] Trial 23 finished with value: 94.75504322766571 and parameters: {'weight_decay': 0.0004837548934191623, 'dampening': 0.0036618204689789335}. Best is trial 12 with value: 94.87031700288185.\n",
      "Training: 100%|█████████████████████████████████| 95/95 [00:34<00:00,  2.74it/s]\n",
      "Validation: 100%|███████████████████████████████| 28/28 [00:05<00:00,  5.16it/s]\n",
      "Training: 100%|█████████████████████████████████| 95/95 [00:33<00:00,  2.81it/s]\n",
      "Validation: 100%|███████████████████████████████| 28/28 [00:05<00:00,  5.05it/s]\n",
      "Training: 100%|█████████████████████████████████| 95/95 [00:35<00:00,  2.70it/s]\n",
      "Validation: 100%|███████████████████████████████| 28/28 [00:05<00:00,  5.14it/s]\n",
      "Training: 100%|█████████████████████████████████| 95/95 [00:33<00:00,  2.80it/s]\n",
      "Validation: 100%|███████████████████████████████| 28/28 [00:05<00:00,  5.15it/s]\n",
      "Training: 100%|█████████████████████████████████| 95/95 [00:34<00:00,  2.74it/s]\n",
      "Validation: 100%|███████████████████████████████| 28/28 [00:04<00:00,  6.04it/s]\n",
      "Training: 100%|█████████████████████████████████| 95/95 [00:34<00:00,  2.74it/s]\n",
      "Validation: 100%|███████████████████████████████| 28/28 [00:04<00:00,  6.04it/s]\n",
      "Training: 100%|█████████████████████████████████| 95/95 [00:34<00:00,  2.75it/s]\n",
      "Validation: 100%|███████████████████████████████| 28/28 [00:04<00:00,  6.05it/s]\n",
      "[I 2023-10-21 01:33:16,652] Trial 24 finished with value: 93.71757925072046 and parameters: {'weight_decay': 0.00043282355223499215, 'dampening': 0.0038435375687640603}. Best is trial 12 with value: 94.87031700288185.\n",
      "Training: 100%|█████████████████████████████████| 95/95 [00:34<00:00,  2.73it/s]\n",
      "Validation: 100%|███████████████████████████████| 28/28 [00:05<00:00,  5.10it/s]\n",
      "Training: 100%|█████████████████████████████████| 95/95 [00:33<00:00,  2.80it/s]\n",
      "Validation: 100%|███████████████████████████████| 28/28 [00:05<00:00,  5.05it/s]\n",
      "Training: 100%|█████████████████████████████████| 95/95 [00:34<00:00,  2.77it/s]\n",
      "Validation: 100%|███████████████████████████████| 28/28 [00:04<00:00,  5.97it/s]\n",
      "Training: 100%|█████████████████████████████████| 95/95 [00:34<00:00,  2.77it/s]\n",
      "Validation: 100%|███████████████████████████████| 28/28 [00:05<00:00,  5.31it/s]\n",
      "Training: 100%|█████████████████████████████████| 95/95 [00:34<00:00,  2.73it/s]\n",
      "Validation: 100%|███████████████████████████████| 28/28 [00:05<00:00,  5.10it/s]\n",
      "Training: 100%|█████████████████████████████████| 95/95 [00:35<00:00,  2.68it/s]\n",
      "Validation: 100%|███████████████████████████████| 28/28 [00:05<00:00,  4.84it/s]\n",
      "Training: 100%|█████████████████████████████████| 95/95 [00:34<00:00,  2.77it/s]\n",
      "Validation: 100%|███████████████████████████████| 28/28 [00:04<00:00,  6.02it/s]\n",
      "[I 2023-10-21 01:37:56,767] Trial 25 finished with value: 94.06340057636888 and parameters: {'weight_decay': 5.373848493790397e-05, 'dampening': 0.0034582792500452266}. Best is trial 12 with value: 94.87031700288185.\n",
      "Training: 100%|█████████████████████████████████| 95/95 [00:35<00:00,  2.66it/s]\n",
      "Validation: 100%|███████████████████████████████| 28/28 [00:05<00:00,  4.99it/s]\n",
      "Training: 100%|█████████████████████████████████| 95/95 [00:33<00:00,  2.82it/s]\n",
      "Validation: 100%|███████████████████████████████| 28/28 [00:05<00:00,  4.83it/s]\n",
      "Training: 100%|█████████████████████████████████| 95/95 [00:37<00:00,  2.55it/s]\n",
      "Validation: 100%|███████████████████████████████| 28/28 [00:05<00:00,  4.75it/s]\n",
      "Training: 100%|█████████████████████████████████| 95/95 [00:41<00:00,  2.27it/s]\n",
      "Validation: 100%|███████████████████████████████| 28/28 [00:06<00:00,  4.53it/s]\n",
      "Training: 100%|█████████████████████████████████| 95/95 [00:41<00:00,  2.26it/s]\n",
      "Validation: 100%|███████████████████████████████| 28/28 [00:08<00:00,  3.48it/s]\n",
      "Training: 100%|█████████████████████████████████| 95/95 [00:44<00:00,  2.12it/s]\n",
      "Validation: 100%|███████████████████████████████| 28/28 [00:08<00:00,  3.47it/s]\n",
      "Training: 100%|█████████████████████████████████| 95/95 [00:48<00:00,  1.97it/s]\n",
      "Validation: 100%|███████████████████████████████| 28/28 [00:06<00:00,  4.10it/s]\n",
      "[I 2023-10-21 01:43:28,110] Trial 26 finished with value: 94.17867435158502 and parameters: {'weight_decay': 0.000641164025123167, 'dampening': 0.004310409020473602}. Best is trial 12 with value: 94.87031700288185.\n",
      "Training: 100%|█████████████████████████████████| 95/95 [00:35<00:00,  2.71it/s]\n",
      "Validation: 100%|███████████████████████████████| 28/28 [00:04<00:00,  5.71it/s]\n",
      "Training: 100%|█████████████████████████████████| 95/95 [00:34<00:00,  2.77it/s]\n",
      "Validation: 100%|███████████████████████████████| 28/28 [00:05<00:00,  5.12it/s]\n",
      "Training: 100%|█████████████████████████████████| 95/95 [00:43<00:00,  2.16it/s]\n",
      "Validation: 100%|███████████████████████████████| 28/28 [00:07<00:00,  3.73it/s]\n",
      "Training: 100%|█████████████████████████████████| 95/95 [00:45<00:00,  2.07it/s]\n",
      "Validation: 100%|███████████████████████████████| 28/28 [00:06<00:00,  4.01it/s]\n",
      "Training: 100%|█████████████████████████████████| 95/95 [00:41<00:00,  2.27it/s]\n",
      "Validation: 100%|███████████████████████████████| 28/28 [00:08<00:00,  3.28it/s]\n",
      "Training: 100%|█████████████████████████████████| 95/95 [00:41<00:00,  2.29it/s]\n",
      "Validation: 100%|███████████████████████████████| 28/28 [00:04<00:00,  6.06it/s]\n",
      "Training: 100%|█████████████████████████████████| 95/95 [00:36<00:00,  2.63it/s]\n",
      "Validation: 100%|███████████████████████████████| 28/28 [00:07<00:00,  3.69it/s]\n",
      "[I 2023-10-21 01:48:53,897] Trial 27 finished with value: 94.29394812680115 and parameters: {'weight_decay': 0.00127064126829506, 'dampening': 0.0031042736353464693}. Best is trial 12 with value: 94.87031700288185.\n",
      "Training: 100%|█████████████████████████████████| 95/95 [00:46<00:00,  2.04it/s]\n",
      "Validation: 100%|███████████████████████████████| 28/28 [00:05<00:00,  4.85it/s]\n",
      "Training: 100%|█████████████████████████████████| 95/95 [00:34<00:00,  2.73it/s]\n",
      "Validation: 100%|███████████████████████████████| 28/28 [00:04<00:00,  5.95it/s]\n",
      "Training: 100%|█████████████████████████████████| 95/95 [00:36<00:00,  2.63it/s]\n",
      "Validation: 100%|███████████████████████████████| 28/28 [00:05<00:00,  4.95it/s]\n",
      "Training: 100%|█████████████████████████████████| 95/95 [00:41<00:00,  2.31it/s]\n",
      "Validation: 100%|███████████████████████████████| 28/28 [00:06<00:00,  4.60it/s]\n",
      "Training: 100%|█████████████████████████████████| 95/95 [00:41<00:00,  2.28it/s]\n",
      "Validation: 100%|███████████████████████████████| 28/28 [00:09<00:00,  2.91it/s]\n",
      "Training: 100%|█████████████████████████████████| 95/95 [00:41<00:00,  2.28it/s]\n",
      "Validation: 100%|███████████████████████████████| 28/28 [00:05<00:00,  4.86it/s]\n",
      "Training: 100%|█████████████████████████████████| 95/95 [00:42<00:00,  2.23it/s]\n",
      "Validation: 100%|███████████████████████████████| 28/28 [00:07<00:00,  3.74it/s]\n",
      "[I 2023-10-21 01:54:25,293] Trial 28 finished with value: 93.42939481268012 and parameters: {'weight_decay': 0.0004913260570622082, 'dampening': 0.003757241302734055}. Best is trial 12 with value: 94.87031700288185.\n",
      "Training: 100%|█████████████████████████████████| 95/95 [00:42<00:00,  2.25it/s]\n",
      "Validation: 100%|███████████████████████████████| 28/28 [00:05<00:00,  5.19it/s]\n",
      "Training: 100%|█████████████████████████████████| 95/95 [00:41<00:00,  2.31it/s]\n",
      "Validation: 100%|███████████████████████████████| 28/28 [00:06<00:00,  4.31it/s]\n",
      "Training: 100%|█████████████████████████████████| 95/95 [00:44<00:00,  2.15it/s]\n",
      "Validation: 100%|███████████████████████████████| 28/28 [00:06<00:00,  4.05it/s]\n",
      "Training: 100%|█████████████████████████████████| 95/95 [00:42<00:00,  2.23it/s]\n",
      "Validation: 100%|███████████████████████████████| 28/28 [00:06<00:00,  4.15it/s]\n",
      "Training: 100%|█████████████████████████████████| 95/95 [00:43<00:00,  2.18it/s]\n",
      "Validation: 100%|███████████████████████████████| 28/28 [00:09<00:00,  2.85it/s]\n",
      "Training: 100%|█████████████████████████████████| 95/95 [00:41<00:00,  2.28it/s]\n",
      "Validation: 100%|███████████████████████████████| 28/28 [00:06<00:00,  4.42it/s]\n",
      "Training: 100%|█████████████████████████████████| 95/95 [00:41<00:00,  2.31it/s]\n",
      "Validation: 100%|███████████████████████████████| 28/28 [00:07<00:00,  3.65it/s]\n",
      "[I 2023-10-21 02:00:13,401] Trial 29 finished with value: 94.69740634005764 and parameters: {'weight_decay': 0.0028753671972684305, 'dampening': 0.004717113248776523}. Best is trial 12 with value: 94.87031700288185.\n",
      "Training: 100%|█████████████████████████████████| 95/95 [00:42<00:00,  2.24it/s]\n",
      "Validation: 100%|███████████████████████████████| 28/28 [00:06<00:00,  4.49it/s]\n",
      "Training: 100%|█████████████████████████████████| 95/95 [00:41<00:00,  2.30it/s]\n",
      "Validation: 100%|███████████████████████████████| 28/28 [00:06<00:00,  4.57it/s]\n",
      "Training: 100%|█████████████████████████████████| 95/95 [00:44<00:00,  2.13it/s]\n",
      "Validation: 100%|███████████████████████████████| 28/28 [00:05<00:00,  4.97it/s]\n",
      "Training: 100%|█████████████████████████████████| 95/95 [00:41<00:00,  2.30it/s]\n",
      "Validation: 100%|███████████████████████████████| 28/28 [00:06<00:00,  4.63it/s]\n",
      "Training: 100%|█████████████████████████████████| 95/95 [00:43<00:00,  2.17it/s]\n",
      "Validation: 100%|███████████████████████████████| 28/28 [00:09<00:00,  2.84it/s]\n",
      "Training: 100%|█████████████████████████████████| 95/95 [00:50<00:00,  1.89it/s]\n",
      "Validation: 100%|███████████████████████████████| 28/28 [00:07<00:00,  3.97it/s]\n",
      "Training: 100%|█████████████████████████████████| 95/95 [00:44<00:00,  2.12it/s]\n",
      "Validation: 100%|███████████████████████████████| 28/28 [00:10<00:00,  2.71it/s]\n",
      "[I 2023-10-21 02:06:15,175] Trial 30 finished with value: 94.17867435158502 and parameters: {'weight_decay': 0.002931678108531006, 'dampening': 0.0045958608240084615}. Best is trial 12 with value: 94.87031700288185.\n",
      "Training: 100%|█████████████████████████████████| 95/95 [00:42<00:00,  2.25it/s]\n",
      "Validation: 100%|███████████████████████████████| 28/28 [00:05<00:00,  5.18it/s]\n",
      "Training: 100%|█████████████████████████████████| 95/95 [00:41<00:00,  2.28it/s]\n",
      "Validation: 100%|███████████████████████████████| 28/28 [00:06<00:00,  4.26it/s]\n",
      "Training: 100%|█████████████████████████████████| 95/95 [00:38<00:00,  2.45it/s]\n",
      "Validation: 100%|███████████████████████████████| 28/28 [00:06<00:00,  4.36it/s]\n",
      "Training: 100%|█████████████████████████████████| 95/95 [00:43<00:00,  2.21it/s]\n",
      "Validation: 100%|███████████████████████████████| 28/28 [00:09<00:00,  3.06it/s]\n",
      "Training: 100%|█████████████████████████████████| 95/95 [00:43<00:00,  2.17it/s]\n",
      "Validation: 100%|███████████████████████████████| 28/28 [00:07<00:00,  3.66it/s]\n",
      "Training: 100%|█████████████████████████████████| 95/95 [00:42<00:00,  2.23it/s]\n",
      "Validation: 100%|███████████████████████████████| 28/28 [00:05<00:00,  5.07it/s]\n",
      "Training: 100%|█████████████████████████████████| 95/95 [00:41<00:00,  2.29it/s]\n",
      "Validation: 100%|███████████████████████████████| 28/28 [00:06<00:00,  4.01it/s]\n",
      "[I 2023-10-21 02:11:58,671] Trial 31 finished with value: 93.37175792507205 and parameters: {'weight_decay': 0.002134076173797062, 'dampening': 0.0047734120870397845}. Best is trial 12 with value: 94.87031700288185.\n",
      "Training: 100%|█████████████████████████████████| 95/95 [00:43<00:00,  2.18it/s]\n",
      "Validation: 100%|███████████████████████████████| 28/28 [00:05<00:00,  4.88it/s]\n",
      "Training: 100%|█████████████████████████████████| 95/95 [00:43<00:00,  2.21it/s]\n",
      "Validation: 100%|███████████████████████████████| 28/28 [00:08<00:00,  3.40it/s]\n",
      "Training: 100%|█████████████████████████████████| 95/95 [00:44<00:00,  2.12it/s]\n",
      "Validation: 100%|███████████████████████████████| 28/28 [00:05<00:00,  5.56it/s]\n",
      "Training: 100%|█████████████████████████████████| 95/95 [00:40<00:00,  2.32it/s]\n",
      "Validation: 100%|███████████████████████████████| 28/28 [00:06<00:00,  4.14it/s]\n",
      "Training: 100%|█████████████████████████████████| 95/95 [00:43<00:00,  2.20it/s]\n",
      "Validation: 100%|███████████████████████████████| 28/28 [00:07<00:00,  3.70it/s]\n",
      "Training: 100%|█████████████████████████████████| 95/95 [00:40<00:00,  2.32it/s]\n",
      "Validation: 100%|███████████████████████████████| 28/28 [00:05<00:00,  5.08it/s]\n",
      "Training: 100%|█████████████████████████████████| 95/95 [00:41<00:00,  2.28it/s]\n",
      "Validation: 100%|███████████████████████████████| 28/28 [00:10<00:00,  2.76it/s]\n",
      "[I 2023-10-21 02:17:47,842] Trial 32 finished with value: 94.17867435158502 and parameters: {'weight_decay': 0.003036269304086012, 'dampening': 0.0049888374456212295}. Best is trial 12 with value: 94.87031700288185.\n",
      "Training: 100%|█████████████████████████████████| 95/95 [00:39<00:00,  2.39it/s]\n",
      "Validation: 100%|███████████████████████████████| 28/28 [00:05<00:00,  5.37it/s]\n",
      "Training: 100%|█████████████████████████████████| 95/95 [00:41<00:00,  2.30it/s]\n",
      "Validation: 100%|███████████████████████████████| 28/28 [00:07<00:00,  3.56it/s]\n",
      "Training: 100%|█████████████████████████████████| 95/95 [00:45<00:00,  2.11it/s]\n",
      "Validation: 100%|███████████████████████████████| 28/28 [00:04<00:00,  5.86it/s]\n",
      "Training: 100%|█████████████████████████████████| 95/95 [00:35<00:00,  2.64it/s]\n",
      "Validation: 100%|███████████████████████████████| 28/28 [00:04<00:00,  5.86it/s]\n",
      "Training: 100%|█████████████████████████████████| 95/95 [00:35<00:00,  2.67it/s]\n",
      "Validation: 100%|███████████████████████████████| 28/28 [00:05<00:00,  4.71it/s]\n",
      "Training: 100%|█████████████████████████████████| 95/95 [00:36<00:00,  2.64it/s]\n",
      "Validation: 100%|███████████████████████████████| 28/28 [00:05<00:00,  5.02it/s]\n",
      "Training: 100%|█████████████████████████████████| 95/95 [00:34<00:00,  2.76it/s]\n",
      "Validation: 100%|███████████████████████████████| 28/28 [00:05<00:00,  5.00it/s]\n",
      "[I 2023-10-21 02:22:57,959] Trial 33 finished with value: 94.00576368876081 and parameters: {'weight_decay': 0.002486934190669569, 'dampening': 0.004185603153099444}. Best is trial 12 with value: 94.87031700288185.\n",
      "Training: 100%|█████████████████████████████████| 95/95 [00:35<00:00,  2.66it/s]\n",
      "Validation: 100%|███████████████████████████████| 28/28 [00:04<00:00,  5.95it/s]\n",
      "Training: 100%|█████████████████████████████████| 95/95 [00:36<00:00,  2.64it/s]\n",
      "Validation: 100%|███████████████████████████████| 28/28 [00:05<00:00,  4.85it/s]\n",
      "Training: 100%|█████████████████████████████████| 95/95 [00:35<00:00,  2.68it/s]\n",
      "Validation: 100%|███████████████████████████████| 28/28 [00:10<00:00,  2.67it/s]\n",
      "Training: 100%|█████████████████████████████████| 95/95 [00:35<00:00,  2.64it/s]\n",
      "Validation: 100%|███████████████████████████████| 28/28 [00:05<00:00,  5.02it/s]\n",
      "Training: 100%|█████████████████████████████████| 95/95 [00:36<00:00,  2.61it/s]\n",
      "Validation: 100%|███████████████████████████████| 28/28 [00:04<00:00,  5.92it/s]\n",
      "Training: 100%|█████████████████████████████████| 95/95 [00:35<00:00,  2.67it/s]\n",
      "Validation: 100%|███████████████████████████████| 28/28 [00:05<00:00,  4.75it/s]\n",
      "Training: 100%|█████████████████████████████████| 95/95 [00:37<00:00,  2.56it/s]\n",
      "Validation: 100%|███████████████████████████████| 28/28 [00:05<00:00,  4.96it/s]\n",
      "[I 2023-10-21 02:27:54,452] Trial 34 finished with value: 93.42939481268012 and parameters: {'weight_decay': 0.001573648675921204, 'dampening': 0.004578130126267776}. Best is trial 12 with value: 94.87031700288185.\n",
      "Training: 100%|█████████████████████████████████| 95/95 [00:34<00:00,  2.75it/s]\n",
      "Validation: 100%|███████████████████████████████| 28/28 [00:05<00:00,  4.74it/s]\n",
      "Training: 100%|█████████████████████████████████| 95/95 [00:38<00:00,  2.48it/s]\n",
      "Validation: 100%|███████████████████████████████| 28/28 [00:06<00:00,  4.07it/s]\n",
      "Training: 100%|█████████████████████████████████| 95/95 [00:43<00:00,  2.19it/s]\n",
      "Validation: 100%|███████████████████████████████| 28/28 [00:06<00:00,  4.16it/s]\n",
      "Training: 100%|█████████████████████████████████| 95/95 [00:43<00:00,  2.17it/s]\n",
      "Validation: 100%|███████████████████████████████| 28/28 [00:06<00:00,  4.10it/s]\n",
      "Training: 100%|█████████████████████████████████| 95/95 [00:44<00:00,  2.15it/s]\n",
      "Validation: 100%|███████████████████████████████| 28/28 [00:06<00:00,  4.22it/s]\n",
      "Training: 100%|█████████████████████████████████| 95/95 [00:43<00:00,  2.17it/s]\n",
      "Validation: 100%|███████████████████████████████| 28/28 [00:06<00:00,  4.05it/s]\n",
      "Training: 100%|█████████████████████████████████| 95/95 [00:42<00:00,  2.22it/s]\n",
      "Validation: 100%|███████████████████████████████| 28/28 [00:07<00:00,  3.94it/s]\n",
      "[I 2023-10-21 02:33:33,810] Trial 35 finished with value: 93.89048991354467 and parameters: {'weight_decay': 0.002215088392026456, 'dampening': 0.004101313070162334}. Best is trial 12 with value: 94.87031700288185.\n",
      "Training: 100%|█████████████████████████████████| 95/95 [00:39<00:00,  2.40it/s]\n",
      "Validation: 100%|███████████████████████████████| 28/28 [00:07<00:00,  3.74it/s]\n",
      "Training: 100%|█████████████████████████████████| 95/95 [00:42<00:00,  2.22it/s]\n",
      "Validation: 100%|███████████████████████████████| 28/28 [00:07<00:00,  3.72it/s]\n",
      "Training: 100%|█████████████████████████████████| 95/95 [00:42<00:00,  2.23it/s]\n",
      "Validation: 100%|███████████████████████████████| 28/28 [00:08<00:00,  3.32it/s]\n",
      "Training: 100%|█████████████████████████████████| 95/95 [00:44<00:00,  2.15it/s]\n",
      "Validation: 100%|███████████████████████████████| 28/28 [00:08<00:00,  3.34it/s]\n",
      "Training: 100%|█████████████████████████████████| 95/95 [00:47<00:00,  2.01it/s]\n",
      "Validation: 100%|███████████████████████████████| 28/28 [00:07<00:00,  4.00it/s]\n",
      "Training: 100%|█████████████████████████████████| 95/95 [00:43<00:00,  2.16it/s]\n",
      "Validation: 100%|███████████████████████████████| 28/28 [00:08<00:00,  3.49it/s]\n",
      "Training: 100%|█████████████████████████████████| 95/95 [00:46<00:00,  2.06it/s]\n",
      "Validation: 100%|███████████████████████████████| 28/28 [00:07<00:00,  3.94it/s]\n",
      "[I 2023-10-21 02:39:35,878] Trial 36 finished with value: 94.29394812680115 and parameters: {'weight_decay': 0.0027013845616161254, 'dampening': 0.004983489942342032}. Best is trial 12 with value: 94.87031700288185.\n",
      "Training: 100%|█████████████████████████████████| 95/95 [00:37<00:00,  2.52it/s]\n",
      "Validation: 100%|███████████████████████████████| 28/28 [00:07<00:00,  3.76it/s]\n",
      "Training: 100%|█████████████████████████████████| 95/95 [00:40<00:00,  2.34it/s]\n",
      "Validation: 100%|███████████████████████████████| 28/28 [00:05<00:00,  4.94it/s]\n",
      "Training: 100%|█████████████████████████████████| 95/95 [00:50<00:00,  1.89it/s]\n",
      "Validation: 100%|███████████████████████████████| 28/28 [00:08<00:00,  3.41it/s]\n",
      "Training: 100%|█████████████████████████████████| 95/95 [00:42<00:00,  2.22it/s]\n",
      "Validation: 100%|███████████████████████████████| 28/28 [00:08<00:00,  3.43it/s]\n",
      "Training: 100%|█████████████████████████████████| 95/95 [00:39<00:00,  2.38it/s]\n",
      "Validation: 100%|███████████████████████████████| 28/28 [00:05<00:00,  4.91it/s]\n",
      "Training: 100%|█████████████████████████████████| 95/95 [00:41<00:00,  2.30it/s]\n",
      "Validation: 100%|███████████████████████████████| 28/28 [00:09<00:00,  3.07it/s]\n",
      "Training: 100%|█████████████████████████████████| 95/95 [00:41<00:00,  2.27it/s]\n",
      "Validation: 100%|███████████████████████████████| 28/28 [00:05<00:00,  5.36it/s]\n",
      "[I 2023-10-21 02:45:21,444] Trial 37 finished with value: 94.23631123919309 and parameters: {'weight_decay': 0.0016669237406545686, 'dampening': 0.003782935886096762}. Best is trial 12 with value: 94.87031700288185.\n",
      "Training: 100%|█████████████████████████████████| 95/95 [00:40<00:00,  2.32it/s]\n",
      "Validation: 100%|███████████████████████████████| 28/28 [00:08<00:00,  3.43it/s]\n",
      "Training: 100%|█████████████████████████████████| 95/95 [00:40<00:00,  2.32it/s]\n",
      "Validation: 100%|███████████████████████████████| 28/28 [00:04<00:00,  5.77it/s]\n",
      "Training: 100%|█████████████████████████████████| 95/95 [00:34<00:00,  2.75it/s]\n",
      "Validation: 100%|███████████████████████████████| 28/28 [00:05<00:00,  5.03it/s]\n",
      "Training: 100%|█████████████████████████████████| 95/95 [00:36<00:00,  2.63it/s]\n",
      "Validation: 100%|███████████████████████████████| 28/28 [00:05<00:00,  5.14it/s]\n",
      "Training: 100%|█████████████████████████████████| 95/95 [00:34<00:00,  2.79it/s]\n",
      "Validation: 100%|███████████████████████████████| 28/28 [00:05<00:00,  5.03it/s]\n",
      "Training: 100%|█████████████████████████████████| 95/95 [00:39<00:00,  2.39it/s]\n",
      "Validation: 100%|███████████████████████████████| 28/28 [00:06<00:00,  4.04it/s]\n",
      "Training: 100%|█████████████████████████████████| 95/95 [00:43<00:00,  2.20it/s]\n",
      "Validation: 100%|███████████████████████████████| 28/28 [00:07<00:00,  3.65it/s]\n",
      "[I 2023-10-21 02:50:36,641] Trial 38 finished with value: 93.89048991354467 and parameters: {'weight_decay': 0.0011974584228326896, 'dampening': 0.00434934315714666}. Best is trial 12 with value: 94.87031700288185.\n",
      "Training: 100%|█████████████████████████████████| 95/95 [00:42<00:00,  2.25it/s]\n",
      "Validation: 100%|███████████████████████████████| 28/28 [00:07<00:00,  3.79it/s]\n",
      "Training: 100%|█████████████████████████████████| 95/95 [00:43<00:00,  2.17it/s]\n",
      "Validation: 100%|███████████████████████████████| 28/28 [00:08<00:00,  3.42it/s]\n",
      "Training: 100%|█████████████████████████████████| 95/95 [00:43<00:00,  2.19it/s]\n",
      "Validation: 100%|███████████████████████████████| 28/28 [00:10<00:00,  2.78it/s]\n",
      "Training: 100%|█████████████████████████████████| 95/95 [00:49<00:00,  1.92it/s]\n",
      "Validation: 100%|███████████████████████████████| 28/28 [00:10<00:00,  2.57it/s]\n",
      "Training: 100%|█████████████████████████████████| 95/95 [00:36<00:00,  2.60it/s]\n",
      "Validation: 100%|███████████████████████████████| 28/28 [00:05<00:00,  5.43it/s]\n",
      "Training: 100%|█████████████████████████████████| 95/95 [00:37<00:00,  2.53it/s]\n",
      "Validation: 100%|███████████████████████████████| 28/28 [00:05<00:00,  5.05it/s]\n",
      "Training: 100%|█████████████████████████████████| 95/95 [00:38<00:00,  2.45it/s]\n",
      "Validation: 100%|███████████████████████████████| 28/28 [00:06<00:00,  4.60it/s]\n",
      "[I 2023-10-21 02:56:23,225] Trial 39 finished with value: 94.00576368876081 and parameters: {'weight_decay': 0.0009596329204138963, 'dampening': 0.004002503946990451}. Best is trial 12 with value: 94.87031700288185.\n",
      "Training: 100%|█████████████████████████████████| 95/95 [00:48<00:00,  1.97it/s]\n",
      "Validation: 100%|███████████████████████████████| 28/28 [00:09<00:00,  2.89it/s]\n",
      "Training: 100%|█████████████████████████████████| 95/95 [00:39<00:00,  2.39it/s]\n",
      "Validation: 100%|███████████████████████████████| 28/28 [00:04<00:00,  5.73it/s]\n",
      "Training: 100%|█████████████████████████████████| 95/95 [00:36<00:00,  2.63it/s]\n",
      "Validation: 100%|███████████████████████████████| 28/28 [00:05<00:00,  4.74it/s]\n",
      "Training: 100%|█████████████████████████████████| 95/95 [00:35<00:00,  2.68it/s]\n",
      "Validation: 100%|███████████████████████████████| 28/28 [00:07<00:00,  3.94it/s]\n",
      "Training: 100%|█████████████████████████████████| 95/95 [00:45<00:00,  2.10it/s]\n",
      "Validation: 100%|███████████████████████████████| 28/28 [00:07<00:00,  3.79it/s]\n",
      "Training: 100%|█████████████████████████████████| 95/95 [00:52<00:00,  1.81it/s]\n",
      "Validation: 100%|███████████████████████████████| 28/28 [00:10<00:00,  2.58it/s]\n",
      "Training: 100%|█████████████████████████████████| 95/95 [00:43<00:00,  2.18it/s]\n",
      "Validation: 100%|███████████████████████████████| 28/28 [00:07<00:00,  3.93it/s]\n",
      "[I 2023-10-21 03:02:18,948] Trial 40 finished with value: 94.4092219020173 and parameters: {'weight_decay': 0.001378810963679219, 'dampening': 0.0033804090176123304}. Best is trial 12 with value: 94.87031700288185.\n",
      "Training: 100%|█████████████████████████████████| 95/95 [00:46<00:00,  2.04it/s]\n",
      "Validation: 100%|███████████████████████████████| 28/28 [00:08<00:00,  3.32it/s]\n",
      "Training: 100%|█████████████████████████████████| 95/95 [00:44<00:00,  2.12it/s]\n",
      "Validation: 100%|███████████████████████████████| 28/28 [00:07<00:00,  3.96it/s]\n",
      "Training: 100%|█████████████████████████████████| 95/95 [00:45<00:00,  2.10it/s]\n",
      "Validation: 100%|███████████████████████████████| 28/28 [00:05<00:00,  5.25it/s]\n",
      "Training: 100%|█████████████████████████████████| 95/95 [00:41<00:00,  2.27it/s]\n",
      "Validation: 100%|███████████████████████████████| 28/28 [00:07<00:00,  3.55it/s]\n",
      "Training: 100%|█████████████████████████████████| 95/95 [00:44<00:00,  2.13it/s]\n",
      "Validation: 100%|███████████████████████████████| 28/28 [00:07<00:00,  3.81it/s]\n",
      "Training: 100%|█████████████████████████████████| 95/95 [00:44<00:00,  2.13it/s]\n",
      "Validation: 100%|███████████████████████████████| 28/28 [00:07<00:00,  3.79it/s]\n",
      "Training: 100%|█████████████████████████████████| 95/95 [00:41<00:00,  2.28it/s]\n",
      "Validation: 100%|███████████████████████████████| 28/28 [00:07<00:00,  3.60it/s]\n",
      "[I 2023-10-21 03:08:21,210] Trial 41 finished with value: 94.46685878962536 and parameters: {'weight_decay': 0.000913452920418993, 'dampening': 0.0023956272360929885}. Best is trial 12 with value: 94.87031700288185.\n",
      "Training: 100%|█████████████████████████████████| 95/95 [00:43<00:00,  2.18it/s]\n",
      "Validation: 100%|███████████████████████████████| 28/28 [00:05<00:00,  4.67it/s]\n",
      "Training: 100%|█████████████████████████████████| 95/95 [00:44<00:00,  2.16it/s]\n",
      "Validation: 100%|███████████████████████████████| 28/28 [00:10<00:00,  2.70it/s]\n",
      "Training: 100%|█████████████████████████████████| 95/95 [00:42<00:00,  2.23it/s]\n",
      "Validation: 100%|███████████████████████████████| 28/28 [00:05<00:00,  4.86it/s]\n",
      "Training: 100%|█████████████████████████████████| 95/95 [00:43<00:00,  2.20it/s]\n",
      "Validation: 100%|███████████████████████████████| 28/28 [00:10<00:00,  2.58it/s]\n",
      "Training: 100%|█████████████████████████████████| 95/95 [00:42<00:00,  2.21it/s]\n",
      "Validation: 100%|███████████████████████████████| 28/28 [00:06<00:00,  4.49it/s]\n",
      "Training: 100%|█████████████████████████████████| 95/95 [00:43<00:00,  2.20it/s]\n",
      "Validation: 100%|███████████████████████████████| 28/28 [00:08<00:00,  3.20it/s]\n",
      "Training: 100%|█████████████████████████████████| 95/95 [00:45<00:00,  2.10it/s]\n",
      "Validation: 100%|███████████████████████████████| 28/28 [00:06<00:00,  4.35it/s]\n",
      "[I 2023-10-21 03:14:22,625] Trial 42 finished with value: 94.06340057636888 and parameters: {'weight_decay': 0.0003216618718848431, 'dampening': 0.00360259695616614}. Best is trial 12 with value: 94.87031700288185.\n",
      "Training: 100%|█████████████████████████████████| 95/95 [00:42<00:00,  2.26it/s]\n",
      "Validation: 100%|███████████████████████████████| 28/28 [00:08<00:00,  3.41it/s]\n",
      "Training: 100%|█████████████████████████████████| 95/95 [00:44<00:00,  2.15it/s]\n",
      "Validation: 100%|███████████████████████████████| 28/28 [00:06<00:00,  4.35it/s]\n",
      "Training: 100%|█████████████████████████████████| 95/95 [00:42<00:00,  2.24it/s]\n",
      "Validation: 100%|███████████████████████████████| 28/28 [00:08<00:00,  3.26it/s]\n",
      "Training: 100%|█████████████████████████████████| 95/95 [00:44<00:00,  2.12it/s]\n",
      "Validation: 100%|███████████████████████████████| 28/28 [00:06<00:00,  4.39it/s]\n",
      "Training: 100%|█████████████████████████████████| 95/95 [00:43<00:00,  2.20it/s]\n",
      "Validation: 100%|███████████████████████████████| 28/28 [00:07<00:00,  3.98it/s]\n",
      "Training: 100%|█████████████████████████████████| 95/95 [00:45<00:00,  2.09it/s]\n",
      "Validation: 100%|███████████████████████████████| 28/28 [00:07<00:00,  3.87it/s]\n",
      "Training: 100%|█████████████████████████████████| 95/95 [00:42<00:00,  2.25it/s]\n",
      "Validation: 100%|███████████████████████████████| 28/28 [00:06<00:00,  4.04it/s]\n",
      "[I 2023-10-21 03:20:19,280] Trial 43 finished with value: 94.69740634005764 and parameters: {'weight_decay': 0.001241380631417288, 'dampening': 0.002890660537232015}. Best is trial 12 with value: 94.87031700288185.\n",
      "Training: 100%|█████████████████████████████████| 95/95 [00:37<00:00,  2.54it/s]\n",
      "Validation: 100%|███████████████████████████████| 28/28 [00:07<00:00,  3.79it/s]\n",
      "Training: 100%|█████████████████████████████████| 95/95 [00:38<00:00,  2.49it/s]\n",
      "Validation: 100%|███████████████████████████████| 28/28 [00:05<00:00,  5.57it/s]\n",
      "Training: 100%|█████████████████████████████████| 95/95 [00:36<00:00,  2.61it/s]\n",
      "Validation: 100%|███████████████████████████████| 28/28 [00:05<00:00,  5.51it/s]\n",
      "Training: 100%|█████████████████████████████████| 95/95 [00:37<00:00,  2.52it/s]\n",
      "Validation: 100%|███████████████████████████████| 28/28 [00:06<00:00,  4.52it/s]\n",
      "Training: 100%|█████████████████████████████████| 95/95 [00:35<00:00,  2.65it/s]\n",
      "Validation: 100%|███████████████████████████████| 28/28 [00:07<00:00,  3.86it/s]\n",
      "Training: 100%|█████████████████████████████████| 95/95 [00:35<00:00,  2.68it/s]\n",
      "Validation: 100%|███████████████████████████████| 28/28 [00:06<00:00,  4.44it/s]\n",
      "Training: 100%|█████████████████████████████████| 95/95 [00:37<00:00,  2.53it/s]\n",
      "Validation: 100%|███████████████████████████████| 28/28 [00:05<00:00,  5.57it/s]\n",
      "[I 2023-10-21 03:25:21,693] Trial 44 finished with value: 94.00576368876081 and parameters: {'weight_decay': 0.0012000977032982367, 'dampening': 0.002796005764374154}. Best is trial 12 with value: 94.87031700288185.\n",
      "Training: 100%|█████████████████████████████████| 95/95 [00:36<00:00,  2.59it/s]\n",
      "Validation: 100%|███████████████████████████████| 28/28 [00:06<00:00,  4.53it/s]\n",
      "Training: 100%|█████████████████████████████████| 95/95 [00:37<00:00,  2.54it/s]\n",
      "Validation: 100%|███████████████████████████████| 28/28 [00:06<00:00,  4.62it/s]\n",
      "Training: 100%|█████████████████████████████████| 95/95 [00:35<00:00,  2.64it/s]\n",
      "Validation: 100%|███████████████████████████████| 28/28 [00:06<00:00,  4.50it/s]\n",
      "Training: 100%|█████████████████████████████████| 95/95 [00:36<00:00,  2.62it/s]\n",
      "Validation: 100%|███████████████████████████████| 28/28 [00:05<00:00,  5.20it/s]\n",
      "Training: 100%|█████████████████████████████████| 95/95 [00:37<00:00,  2.55it/s]\n",
      "Validation: 100%|███████████████████████████████| 28/28 [00:06<00:00,  4.55it/s]\n",
      "Training: 100%|█████████████████████████████████| 95/95 [00:35<00:00,  2.66it/s]\n",
      "Validation: 100%|███████████████████████████████| 28/28 [00:06<00:00,  4.36it/s]\n",
      "Training: 100%|█████████████████████████████████| 95/95 [00:35<00:00,  2.67it/s]\n",
      "Validation: 100%|███████████████████████████████| 28/28 [00:05<00:00,  5.22it/s]\n",
      "[I 2023-10-21 03:30:19,776] Trial 45 finished with value: 94.35158501440922 and parameters: {'weight_decay': 0.0005793725209173846, 'dampening': 0.002896404799529276}. Best is trial 12 with value: 94.87031700288185.\n",
      "Training: 100%|█████████████████████████████████| 95/95 [00:36<00:00,  2.63it/s]\n",
      "Validation: 100%|███████████████████████████████| 28/28 [00:07<00:00,  3.89it/s]\n",
      "Training: 100%|█████████████████████████████████| 95/95 [00:37<00:00,  2.50it/s]\n",
      "Validation: 100%|███████████████████████████████| 28/28 [00:05<00:00,  5.10it/s]\n",
      "Training: 100%|█████████████████████████████████| 95/95 [00:36<00:00,  2.64it/s]\n",
      "Validation: 100%|███████████████████████████████| 28/28 [00:05<00:00,  5.47it/s]\n",
      "Training: 100%|█████████████████████████████████| 95/95 [00:36<00:00,  2.60it/s]\n",
      "Validation: 100%|███████████████████████████████| 28/28 [00:06<00:00,  4.59it/s]\n",
      "Training: 100%|█████████████████████████████████| 95/95 [00:37<00:00,  2.51it/s]\n",
      "Validation: 100%|███████████████████████████████| 28/28 [00:07<00:00,  3.54it/s]\n",
      "Training: 100%|█████████████████████████████████| 95/95 [00:35<00:00,  2.67it/s]\n",
      "Validation: 100%|███████████████████████████████| 28/28 [00:06<00:00,  4.50it/s]\n",
      "Training: 100%|█████████████████████████████████| 95/95 [00:38<00:00,  2.50it/s]\n",
      "Validation: 100%|███████████████████████████████| 28/28 [00:06<00:00,  4.47it/s]\n",
      "[I 2023-10-21 03:35:23,742] Trial 46 finished with value: 94.29394812680115 and parameters: {'weight_decay': 0.003384841430323077, 'dampening': 0.0033325232498073354}. Best is trial 12 with value: 94.87031700288185.\n",
      "Training: 100%|█████████████████████████████████| 95/95 [00:35<00:00,  2.65it/s]\n",
      "Validation: 100%|███████████████████████████████| 28/28 [00:06<00:00,  4.48it/s]\n",
      "Training: 100%|█████████████████████████████████| 95/95 [00:37<00:00,  2.53it/s]\n",
      "Validation: 100%|███████████████████████████████| 28/28 [00:06<00:00,  4.50it/s]\n",
      "Training: 100%|█████████████████████████████████| 95/95 [00:38<00:00,  2.50it/s]\n",
      "Validation: 100%|███████████████████████████████| 28/28 [00:05<00:00,  5.45it/s]\n",
      "Training: 100%|█████████████████████████████████| 95/95 [00:36<00:00,  2.60it/s]\n",
      "Validation: 100%|███████████████████████████████| 28/28 [00:06<00:00,  4.50it/s]\n",
      "Training: 100%|█████████████████████████████████| 95/95 [00:37<00:00,  2.56it/s]\n",
      "Validation: 100%|███████████████████████████████| 28/28 [00:05<00:00,  5.43it/s]\n",
      "Training: 100%|█████████████████████████████████| 95/95 [00:37<00:00,  2.55it/s]\n",
      "Validation: 100%|███████████████████████████████| 28/28 [00:06<00:00,  4.24it/s]\n",
      "Training: 100%|█████████████████████████████████| 95/95 [00:35<00:00,  2.65it/s]\n",
      "Validation: 100%|███████████████████████████████| 28/28 [00:06<00:00,  4.33it/s]\n",
      "[I 2023-10-21 03:40:25,800] Trial 47 finished with value: 93.94812680115274 and parameters: {'weight_decay': 0.00024686899293217314, 'dampening': 0.003317889086069233}. Best is trial 12 with value: 94.87031700288185.\n",
      "Training: 100%|█████████████████████████████████| 95/95 [00:37<00:00,  2.52it/s]\n",
      "Validation: 100%|███████████████████████████████| 28/28 [00:06<00:00,  4.43it/s]\n",
      "Training: 100%|█████████████████████████████████| 95/95 [00:35<00:00,  2.64it/s]\n",
      "Validation: 100%|███████████████████████████████| 28/28 [00:06<00:00,  4.52it/s]\n",
      "Training: 100%|█████████████████████████████████| 95/95 [00:37<00:00,  2.52it/s]\n",
      "Validation: 100%|███████████████████████████████| 28/28 [00:05<00:00,  5.26it/s]\n",
      "Training: 100%|█████████████████████████████████| 95/95 [00:36<00:00,  2.61it/s]\n",
      "Validation: 100%|███████████████████████████████| 28/28 [00:06<00:00,  4.46it/s]\n",
      "Training: 100%|█████████████████████████████████| 95/95 [00:36<00:00,  2.57it/s]\n",
      "Validation: 100%|███████████████████████████████| 28/28 [00:05<00:00,  5.47it/s]\n",
      "Training: 100%|█████████████████████████████████| 95/95 [00:37<00:00,  2.56it/s]\n",
      "Validation: 100%|███████████████████████████████| 28/28 [00:06<00:00,  4.34it/s]\n",
      "Training: 100%|█████████████████████████████████| 95/95 [00:37<00:00,  2.55it/s]\n",
      "Validation: 100%|███████████████████████████████| 28/28 [00:05<00:00,  5.53it/s]\n",
      "[I 2023-10-21 03:45:27,313] Trial 48 finished with value: 94.12103746397695 and parameters: {'weight_decay': 0.0008292552112857355, 'dampening': 0.0025930359088898952}. Best is trial 12 with value: 94.87031700288185.\n",
      "Training: 100%|█████████████████████████████████| 95/95 [00:36<00:00,  2.60it/s]\n",
      "Validation: 100%|███████████████████████████████| 28/28 [00:05<00:00,  4.69it/s]\n",
      "Training: 100%|█████████████████████████████████| 95/95 [00:37<00:00,  2.57it/s]\n",
      "Validation: 100%|███████████████████████████████| 28/28 [00:05<00:00,  5.52it/s]\n",
      "Training: 100%|█████████████████████████████████| 95/95 [00:37<00:00,  2.57it/s]\n",
      "Validation: 100%|███████████████████████████████| 28/28 [00:05<00:00,  5.37it/s]\n",
      "Training: 100%|█████████████████████████████████| 95/95 [00:37<00:00,  2.53it/s]\n",
      "Validation: 100%|███████████████████████████████| 28/28 [00:06<00:00,  4.53it/s]\n",
      "Training: 100%|█████████████████████████████████| 95/95 [00:37<00:00,  2.55it/s]\n",
      "Validation: 100%|███████████████████████████████| 28/28 [00:06<00:00,  4.48it/s]\n",
      "Training: 100%|█████████████████████████████████| 95/95 [00:38<00:00,  2.49it/s]\n",
      "Validation: 100%|███████████████████████████████| 28/28 [00:06<00:00,  4.41it/s]\n",
      "Training: 100%|█████████████████████████████████| 95/95 [00:37<00:00,  2.52it/s]\n",
      "Validation: 100%|███████████████████████████████| 28/28 [00:05<00:00,  5.46it/s]\n",
      "[I 2023-10-21 03:50:29,896] Trial 49 finished with value: 94.4092219020173 and parameters: {'weight_decay': 0.001415161254551408, 'dampening': 0.0028939603768884476}. Best is trial 12 with value: 94.87031700288185.\n"
     ]
    }
   ],
   "source": [
    "from tqdm import tqdm\n",
    "import torch\n",
    "import torch.nn as nn\n",
    "import torch.optim as optim\n",
    "from torchvision import models\n",
    "import optuna\n",
    "\n",
    "def objective(trial):\n",
    "    # Define the device\n",
    "    device = torch.device('cuda' if torch.cuda.is_available() else 'cpu')\n",
    "\n",
    "    # Load pre-trained VGG-19 with batch normalization\n",
    "    model = models.vgg19_bn(weights='DEFAULT')\n",
    "    \n",
    "    # Modify the last layer to match the number of classes in the Caltech101 dataset (102)\n",
    "    num_classes = 102  # Including background class\n",
    "    model.classifier[6] = nn.Linear(model.classifier[6].in_features, num_classes)\n",
    "    \n",
    "    # Move the model to the device\n",
    "    model = model.to(device)\n",
    "\n",
    "    # Define hyperparameters to be optimized\n",
    "    weight_decay = trial.suggest_float('weight_decay', 0, 0.005)\n",
    "    dampening = trial.suggest_float('dampening', 0, 0.005)\n",
    "\n",
    "    # Loss function and optimizer\n",
    "    criterion = nn.CrossEntropyLoss()\n",
    "    optimizer = optim.SGD(model.parameters(), lr=0.00148, momentum=0.9395, dampening=dampening, weight_decay=weight_decay)\n",
    "\n",
    "    # Train and validate the model\n",
    "    num_epochs = 7\n",
    "\n",
    "    for epoch in range(num_epochs):\n",
    "        # Training phase\n",
    "        model.train()\n",
    "        running_loss = 0.0\n",
    "        for images, labels in tqdm(train_loader, desc=\"Training\"):\n",
    "            images, labels = images.to(device), labels.to(device)\n",
    "            optimizer.zero_grad()\n",
    "            outputs = model(images)\n",
    "            loss = criterion(outputs, labels)\n",
    "            loss.backward()\n",
    "            optimizer.step()\n",
    "            running_loss += loss.item()\n",
    "\n",
    "        # Validation phase\n",
    "        model.eval()\n",
    "        val_running_loss = 0.0\n",
    "        correct = 0\n",
    "        total = 0\n",
    "        with torch.no_grad():\n",
    "            for images, labels in tqdm(val_loader, desc=\"Validation\"):\n",
    "                images, labels = images.to(device), labels.to(device)\n",
    "                outputs = model(images)\n",
    "                loss = criterion(outputs, labels)\n",
    "                val_running_loss += loss.item()\n",
    "                _, predicted = outputs.max(1)\n",
    "                total += labels.size(0)\n",
    "                correct += predicted.eq(labels).sum().item()\n",
    "\n",
    "        val_accuracy = 100 * correct / total\n",
    "\n",
    "    return val_accuracy\n",
    "\n",
    "if __name__ == '__main__':\n",
    "    study = optuna.create_study(direction='maximize')\n",
    "    study.optimize(objective, n_trials=50)"
   ]
  },
  {
   "cell_type": "code",
   "execution_count": null,
   "id": "93763128-2694-4215-b1f6-9b545b547dcd",
   "metadata": {},
   "outputs": [],
   "source": []
  }
 ],
 "metadata": {
  "kernelspec": {
   "display_name": "Python 3 (ipykernel)",
   "language": "python",
   "name": "python3"
  },
  "language_info": {
   "codemirror_mode": {
    "name": "ipython",
    "version": 3
   },
   "file_extension": ".py",
   "mimetype": "text/x-python",
   "name": "python",
   "nbconvert_exporter": "python",
   "pygments_lexer": "ipython3",
   "version": "3.10.12"
  }
 },
 "nbformat": 4,
 "nbformat_minor": 5
}
